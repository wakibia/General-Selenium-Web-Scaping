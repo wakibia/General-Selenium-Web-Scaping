{
 "cells": [
  {
   "cell_type": "code",
   "execution_count": 200,
   "metadata": {},
   "outputs": [
    {
     "name": "stderr",
     "output_type": "stream",
     "text": [
      "C:\\Users\\cmwak\\AppData\\Local\\Temp\\ipykernel_5480\\2620318641.py:16: FutureWarning: Passing a negative integer is deprecated in version 1.0 and will not be supported in future version. Instead, use None to not limit the column width.\n",
      "  pd.set_option('display.max_colwidth', -1)\n"
     ]
    }
   ],
   "source": [
    "## load the libraries\n",
    "from selenium import webdriver\n",
    "from selenium.webdriver.chrome.service import Service\n",
    "from selenium.webdriver.common.by import By\n",
    "import pandas as pd\n",
    "import re\n",
    "import unicodedata\n",
    "import time\n",
    "from selenium.webdriver import ActionChains\n",
    "from selenium.common.exceptions import NoSuchElementException\n",
    "\n",
    "# Set display options to view the entire DataFrame\n",
    "pd.set_option('display.max_rows', None)\n",
    "pd.set_option('display.max_columns', None)\n",
    "pd.set_option('display.width', None)\n",
    "pd.set_option('display.max_colwidth', -1)"
   ]
  },
  {
   "cell_type": "code",
   "execution_count": 7,
   "metadata": {},
   "outputs": [],
   "source": [
    "## path to the chromedriver\n",
    "path = 'C:/Users/cmwak/chrome_driver/chromedriver'\n",
    "driver = webdriver.Chrome(service=Service(path))\n",
    "\n",
    "## url to the website\n",
    "url = 'https://www.tuko.co.ke/politics/510266-finance-bill-2023-names-kenya-kwanza-azimio-mps-how-voted/'\n",
    "driver.maximize_window()\n",
    "driver.get(url)\n",
    "\n",
    "## get the data\n",
    "parars = driver.find_elements(By.XPATH, '//p[@class=\"align-left\"]')"
   ]
  },
  {
   "cell_type": "code",
   "execution_count": 23,
   "metadata": {},
   "outputs": [],
   "source": [
    "## get those items that starts with digit\n",
    "mps = []\n",
    "for parar in parars:\n",
    "    if parar.text[0].isdigit():\n",
    "        mps.append(parar.text)\n",
    "        "
   ]
  },
  {
   "cell_type": "code",
   "execution_count": 125,
   "metadata": {},
   "outputs": [],
   "source": [
    "#mps_voting = [re.sub(r'[\\(+]', '- ', mp) for mp in mps]\n",
    "mps_voting = [re.sub(r'\\d+. ', '', mp) for mp in mps]"
   ]
  },
  {
   "cell_type": "code",
   "execution_count": 151,
   "metadata": {},
   "outputs": [],
   "source": [
    "def convert_to_ascii(s):\n",
    "    return unicodedata.normalize('NFKD', s).encode('ascii', 'ignore').decode('ascii')\n",
    "\n",
    "mps_voting = [convert_to_ascii(mp) for mp in mps_voting]"
   ]
  },
  {
   "cell_type": "code",
   "execution_count": 157,
   "metadata": {},
   "outputs": [],
   "source": [
    "## replace ( with -\n",
    "df['voting'] = df['voting'].str.replace(r'[\\(+]', '- ', regex = True).str.replace(r'\\)', '', regex=True)\n",
    "\n",
    "## split the data\n",
    "finance_bill_2023 = df['voting'].str.split('-', expand=True)\n",
    "finance_bill_2023.columns = ['mp_name', 'mp_vote']\n",
    "finance_bill_2023['mp_vote'] = finance_bill_2023['mp_vote'].str.strip()"
   ]
  },
  {
   "cell_type": "code",
   "execution_count": 158,
   "metadata": {},
   "outputs": [
    {
     "data": {
      "text/html": [
       "<div>\n",
       "<style scoped>\n",
       "    .dataframe tbody tr th:only-of-type {\n",
       "        vertical-align: middle;\n",
       "    }\n",
       "\n",
       "    .dataframe tbody tr th {\n",
       "        vertical-align: top;\n",
       "    }\n",
       "\n",
       "    .dataframe thead th {\n",
       "        text-align: right;\n",
       "    }\n",
       "</style>\n",
       "<table border=\"1\" class=\"dataframe\">\n",
       "  <thead>\n",
       "    <tr style=\"text-align: right;\">\n",
       "      <th></th>\n",
       "      <th>mp_name</th>\n",
       "      <th>mp_vote</th>\n",
       "    </tr>\n",
       "  </thead>\n",
       "  <tbody>\n",
       "    <tr>\n",
       "      <th>0</th>\n",
       "      <td>Hon Samuel Chepkonga</td>\n",
       "      <td>YES</td>\n",
       "    </tr>\n",
       "    <tr>\n",
       "      <th>1</th>\n",
       "      <td>Hon. Samuel Atandi</td>\n",
       "      <td>NO</td>\n",
       "    </tr>\n",
       "    <tr>\n",
       "      <th>2</th>\n",
       "      <td>Hon. John Walter Owino</td>\n",
       "      <td>ABSENT</td>\n",
       "    </tr>\n",
       "    <tr>\n",
       "      <th>3</th>\n",
       "      <td>Hon. Irene Njoki</td>\n",
       "      <td>YES</td>\n",
       "    </tr>\n",
       "    <tr>\n",
       "      <th>4</th>\n",
       "      <td>Hon. Florence Jematia</td>\n",
       "      <td>YES</td>\n",
       "    </tr>\n",
       "    <tr>\n",
       "      <th>5</th>\n",
       "      <td>Hon. Joshua Kandie</td>\n",
       "      <td>YES</td>\n",
       "    </tr>\n",
       "    <tr>\n",
       "      <th>6</th>\n",
       "      <td>Hon. Joseph Kipkoros</td>\n",
       "      <td>YES</td>\n",
       "    </tr>\n",
       "    <tr>\n",
       "      <th>7</th>\n",
       "      <td>Hon. Charles Kamuren</td>\n",
       "      <td>YES</td>\n",
       "    </tr>\n",
       "    <tr>\n",
       "      <th>8</th>\n",
       "      <td>Hon. Nelson Koech</td>\n",
       "      <td>YES</td>\n",
       "    </tr>\n",
       "    <tr>\n",
       "      <th>9</th>\n",
       "      <td>Hon. Innocent Obiri</td>\n",
       "      <td>ABSENT</td>\n",
       "    </tr>\n",
       "  </tbody>\n",
       "</table>\n",
       "</div>"
      ],
      "text/plain": [
       "                   mp_name mp_vote\n",
       "0  Hon Samuel Chepkonga     YES   \n",
       "1  Hon. Samuel Atandi       NO    \n",
       "2  Hon. John Walter Owino   ABSENT\n",
       "3  Hon. Irene Njoki         YES   \n",
       "4  Hon. Florence Jematia    YES   \n",
       "5  Hon. Joshua Kandie       YES   \n",
       "6  Hon. Joseph Kipkoros     YES   \n",
       "7  Hon. Charles Kamuren     YES   \n",
       "8  Hon. Nelson Koech        YES   \n",
       "9  Hon. Innocent Obiri      ABSENT"
      ]
     },
     "execution_count": 158,
     "metadata": {},
     "output_type": "execute_result"
    }
   ],
   "source": [
    "finance_bill_2023.head(10)"
   ]
  },
  {
   "cell_type": "code",
   "execution_count": 160,
   "metadata": {},
   "outputs": [
    {
     "data": {
      "text/html": [
       "<div>\n",
       "<style scoped>\n",
       "    .dataframe tbody tr th:only-of-type {\n",
       "        vertical-align: middle;\n",
       "    }\n",
       "\n",
       "    .dataframe tbody tr th {\n",
       "        vertical-align: top;\n",
       "    }\n",
       "\n",
       "    .dataframe thead th {\n",
       "        text-align: right;\n",
       "    }\n",
       "</style>\n",
       "<table border=\"1\" class=\"dataframe\">\n",
       "  <thead>\n",
       "    <tr style=\"text-align: right;\">\n",
       "      <th></th>\n",
       "      <th>mp_name</th>\n",
       "    </tr>\n",
       "    <tr>\n",
       "      <th>mp_vote</th>\n",
       "      <th></th>\n",
       "    </tr>\n",
       "  </thead>\n",
       "  <tbody>\n",
       "    <tr>\n",
       "      <th>ABSENT</th>\n",
       "      <td>24</td>\n",
       "    </tr>\n",
       "    <tr>\n",
       "      <th>NO</th>\n",
       "      <td>71</td>\n",
       "    </tr>\n",
       "    <tr>\n",
       "      <th>SUSPENDED</th>\n",
       "      <td>3</td>\n",
       "    </tr>\n",
       "    <tr>\n",
       "      <th>YES</th>\n",
       "      <td>155</td>\n",
       "    </tr>\n",
       "  </tbody>\n",
       "</table>\n",
       "</div>"
      ],
      "text/plain": [
       "           mp_name\n",
       "mp_vote           \n",
       "ABSENT     24     \n",
       "NO         71     \n",
       "SUSPENDED  3      \n",
       "YES        155    "
      ]
     },
     "execution_count": 160,
     "metadata": {},
     "output_type": "execute_result"
    }
   ],
   "source": [
    "finance_bill_2023.groupby('mp_vote').count()"
   ]
  },
  {
   "cell_type": "code",
   "execution_count": 161,
   "metadata": {},
   "outputs": [],
   "source": [
    "## save the data\n",
    "finance_bill_2023.to_csv('finance_bill_2023_voting.csv', index=False)"
   ]
  },
  {
   "cell_type": "code",
   "execution_count": 163,
   "metadata": {},
   "outputs": [],
   "source": [
    "from selenium.webdriver.support import expected_conditions as EC\n",
    "from selenium.webdriver.common.by import By\n",
    "from selenium.webdriver.support.ui import WebDriverWait\n",
    "from selenium.webdriver.common.keys import Keys"
   ]
  },
  {
   "cell_type": "code",
   "execution_count": 185,
   "metadata": {},
   "outputs": [
    {
     "name": "stdout",
     "output_type": "stream",
     "text": [
      "Next page\n",
      "Next page\n",
      "Next page\n",
      "Next page\n",
      "Next page\n",
      "Next page\n",
      "Next page\n",
      "Next page\n",
      "Next page\n",
      "Next page\n",
      "Next page\n",
      "Next page\n",
      "Next page\n",
      "Next page\n",
      "Next page\n",
      "Next page\n",
      "Next page\n",
      "Next page\n",
      "Next page\n",
      "Next page\n",
      "Next page\n",
      "Next page\n",
      "Next page\n",
      "Next page\n",
      "Next page\n",
      "Next page\n",
      "Next page\n",
      "Next page\n",
      "Next page\n",
      "Next page\n",
      "Next page\n",
      "Next page\n",
      "Next page\n",
      "Next page\n",
      "Next page\n"
     ]
    },
    {
     "ename": "NoSuchElementException",
     "evalue": "Message: no such element: Unable to locate element: {\"method\":\"xpath\",\"selector\":\"//a[@title=\"Go to next page\"]\"}\n  (Session info: chrome=114.0.5735.110)\nStacktrace:\nBacktrace:\n\tGetHandleVerifier [0x00ABA813+48355]\n\t(No symbol) [0x00A4C4B1]\n\t(No symbol) [0x00955358]\n\t(No symbol) [0x009809A5]\n\t(No symbol) [0x00980B3B]\n\t(No symbol) [0x009AE232]\n\t(No symbol) [0x0099A784]\n\t(No symbol) [0x009AC922]\n\t(No symbol) [0x0099A536]\n\t(No symbol) [0x009782DC]\n\t(No symbol) [0x009793DD]\n\tGetHandleVerifier [0x00D1AABD+2539405]\n\tGetHandleVerifier [0x00D5A78F+2800735]\n\tGetHandleVerifier [0x00D5456C+2775612]\n\tGetHandleVerifier [0x00B451E0+616112]\n\t(No symbol) [0x00A55F8C]\n\t(No symbol) [0x00A52328]\n\t(No symbol) [0x00A5240B]\n\t(No symbol) [0x00A44FF7]\n\tBaseThreadInitThunk [0x75977D59+25]\n\tRtlInitializeExceptionChain [0x77CCB74B+107]\n\tRtlClearBits [0x77CCB6CF+191]\n",
     "output_type": "error",
     "traceback": [
      "\u001b[1;31m---------------------------------------------------------------------------\u001b[0m",
      "\u001b[1;31mNoSuchElementException\u001b[0m                    Traceback (most recent call last)",
      "Cell \u001b[1;32mIn[185], line 16\u001b[0m\n\u001b[0;32m     12\u001b[0m \u001b[39m#find_item.click()\u001b[39;00m\n\u001b[0;32m     13\u001b[0m \n\u001b[0;32m     14\u001b[0m \u001b[39m## get the data\u001b[39;00m\n\u001b[0;32m     15\u001b[0m \u001b[39mwhile\u001b[39;00m \u001b[39mTrue\u001b[39;00m:\n\u001b[1;32m---> 16\u001b[0m     go_to_next \u001b[39m=\u001b[39m driver\u001b[39m.\u001b[39;49mfind_element(By\u001b[39m.\u001b[39;49mXPATH, \u001b[39m'\u001b[39;49m\u001b[39m//a[@title=\u001b[39;49m\u001b[39m\"\u001b[39;49m\u001b[39mGo to next page\u001b[39;49m\u001b[39m\"\u001b[39;49m\u001b[39m]\u001b[39;49m\u001b[39m'\u001b[39;49m)\n\u001b[0;32m     17\u001b[0m     go_to_next\u001b[39m.\u001b[39mclick()\n\u001b[0;32m     18\u001b[0m     time\u001b[39m.\u001b[39msleep(\u001b[39m5\u001b[39m)\n",
      "File \u001b[1;32mc:\\Users\\cmwak\\anaconda3\\lib\\site-packages\\selenium\\webdriver\\remote\\webdriver.py:1251\u001b[0m, in \u001b[0;36mWebDriver.find_element\u001b[1;34m(self, by, value)\u001b[0m\n\u001b[0;32m   1248\u001b[0m     by \u001b[39m=\u001b[39m By\u001b[39m.\u001b[39mCSS_SELECTOR\n\u001b[0;32m   1249\u001b[0m     value \u001b[39m=\u001b[39m \u001b[39m'\u001b[39m\u001b[39m[name=\u001b[39m\u001b[39m\"\u001b[39m\u001b[39m%s\u001b[39;00m\u001b[39m\"\u001b[39m\u001b[39m]\u001b[39m\u001b[39m'\u001b[39m \u001b[39m%\u001b[39m value\n\u001b[1;32m-> 1251\u001b[0m \u001b[39mreturn\u001b[39;00m \u001b[39mself\u001b[39;49m\u001b[39m.\u001b[39;49mexecute(Command\u001b[39m.\u001b[39;49mFIND_ELEMENT, {\n\u001b[0;32m   1252\u001b[0m     \u001b[39m'\u001b[39;49m\u001b[39musing\u001b[39;49m\u001b[39m'\u001b[39;49m: by,\n\u001b[0;32m   1253\u001b[0m     \u001b[39m'\u001b[39;49m\u001b[39mvalue\u001b[39;49m\u001b[39m'\u001b[39;49m: value})[\u001b[39m'\u001b[39m\u001b[39mvalue\u001b[39m\u001b[39m'\u001b[39m]\n",
      "File \u001b[1;32mc:\\Users\\cmwak\\anaconda3\\lib\\site-packages\\selenium\\webdriver\\remote\\webdriver.py:430\u001b[0m, in \u001b[0;36mWebDriver.execute\u001b[1;34m(self, driver_command, params)\u001b[0m\n\u001b[0;32m    428\u001b[0m response \u001b[39m=\u001b[39m \u001b[39mself\u001b[39m\u001b[39m.\u001b[39mcommand_executor\u001b[39m.\u001b[39mexecute(driver_command, params)\n\u001b[0;32m    429\u001b[0m \u001b[39mif\u001b[39;00m response:\n\u001b[1;32m--> 430\u001b[0m     \u001b[39mself\u001b[39;49m\u001b[39m.\u001b[39;49merror_handler\u001b[39m.\u001b[39;49mcheck_response(response)\n\u001b[0;32m    431\u001b[0m     response[\u001b[39m'\u001b[39m\u001b[39mvalue\u001b[39m\u001b[39m'\u001b[39m] \u001b[39m=\u001b[39m \u001b[39mself\u001b[39m\u001b[39m.\u001b[39m_unwrap_value(\n\u001b[0;32m    432\u001b[0m         response\u001b[39m.\u001b[39mget(\u001b[39m'\u001b[39m\u001b[39mvalue\u001b[39m\u001b[39m'\u001b[39m, \u001b[39mNone\u001b[39;00m))\n\u001b[0;32m    433\u001b[0m     \u001b[39mreturn\u001b[39;00m response\n",
      "File \u001b[1;32mc:\\Users\\cmwak\\anaconda3\\lib\\site-packages\\selenium\\webdriver\\remote\\errorhandler.py:247\u001b[0m, in \u001b[0;36mErrorHandler.check_response\u001b[1;34m(self, response)\u001b[0m\n\u001b[0;32m    245\u001b[0m         alert_text \u001b[39m=\u001b[39m value[\u001b[39m'\u001b[39m\u001b[39malert\u001b[39m\u001b[39m'\u001b[39m]\u001b[39m.\u001b[39mget(\u001b[39m'\u001b[39m\u001b[39mtext\u001b[39m\u001b[39m'\u001b[39m)\n\u001b[0;32m    246\u001b[0m     \u001b[39mraise\u001b[39;00m exception_class(message, screen, stacktrace, alert_text)  \u001b[39m# type: ignore[call-arg]  # mypy is not smart enough here\u001b[39;00m\n\u001b[1;32m--> 247\u001b[0m \u001b[39mraise\u001b[39;00m exception_class(message, screen, stacktrace)\n",
      "\u001b[1;31mNoSuchElementException\u001b[0m: Message: no such element: Unable to locate element: {\"method\":\"xpath\",\"selector\":\"//a[@title=\"Go to next page\"]\"}\n  (Session info: chrome=114.0.5735.110)\nStacktrace:\nBacktrace:\n\tGetHandleVerifier [0x00ABA813+48355]\n\t(No symbol) [0x00A4C4B1]\n\t(No symbol) [0x00955358]\n\t(No symbol) [0x009809A5]\n\t(No symbol) [0x00980B3B]\n\t(No symbol) [0x009AE232]\n\t(No symbol) [0x0099A784]\n\t(No symbol) [0x009AC922]\n\t(No symbol) [0x0099A536]\n\t(No symbol) [0x009782DC]\n\t(No symbol) [0x009793DD]\n\tGetHandleVerifier [0x00D1AABD+2539405]\n\tGetHandleVerifier [0x00D5A78F+2800735]\n\tGetHandleVerifier [0x00D5456C+2775612]\n\tGetHandleVerifier [0x00B451E0+616112]\n\t(No symbol) [0x00A55F8C]\n\t(No symbol) [0x00A52328]\n\t(No symbol) [0x00A5240B]\n\t(No symbol) [0x00A44FF7]\n\tBaseThreadInitThunk [0x75977D59+25]\n\tRtlInitializeExceptionChain [0x77CCB74B+107]\n\tRtlClearBits [0x77CCB6CF+191]\n"
     ]
    }
   ],
   "source": [
    "gok = 'http://www.parliament.go.ke/the-national-assembly/mps'\n",
    "## path to the chromedriver\n",
    "path = 'C:/Users/cmwak/chrome_driver/chromedriver'\n",
    "driver = webdriver.Chrome(service=Service(path))\n",
    "driver.maximize_window()\n",
    "driver.get(gok)\n",
    "\n",
    "time.sleep(5)\n",
    "\n",
    "next_page = driver.find_element(By.XPATH, '//a[@title=\"Go to next page\"]')\n",
    "\n",
    "#find_item.click()\n",
    "\n",
    "## get the data\n",
    "try:\n",
    "    while True:\n",
    "        go_to_next = driver.find_element(By.XPATH, '//a[@title=\"Go to next page\"]')\n",
    "        go_to_next.click()\n",
    "        time.sleep(5)\n",
    "        print('Next page')\n",
    "except NoSuchElementException:\n",
    "    print('No more pages')"
   ]
  },
  {
   "cell_type": "code",
   "execution_count": 202,
   "metadata": {},
   "outputs": [
    {
     "ename": "ElementClickInterceptedException",
     "evalue": "Message: element click intercepted: Element is not clickable at point (759, 3696)\n  (Session info: chrome=114.0.5735.110)\nStacktrace:\nBacktrace:\n\tGetHandleVerifier [0x00ABA813+48355]\n\t(No symbol) [0x00A4C4B1]\n\t(No symbol) [0x00955358]\n\t(No symbol) [0x00985062]\n\t(No symbol) [0x00983B98]\n\t(No symbol) [0x0098239B]\n\t(No symbol) [0x0098179E]\n\t(No symbol) [0x00979F5C]\n\t(No symbol) [0x0099A73C]\n\t(No symbol) [0x00979A36]\n\t(No symbol) [0x0099AA94]\n\t(No symbol) [0x009AC922]\n\t(No symbol) [0x0099A536]\n\t(No symbol) [0x009782DC]\n\t(No symbol) [0x009793DD]\n\tGetHandleVerifier [0x00D1AABD+2539405]\n\tGetHandleVerifier [0x00D5A78F+2800735]\n\tGetHandleVerifier [0x00D5456C+2775612]\n\tGetHandleVerifier [0x00B451E0+616112]\n\t(No symbol) [0x00A55F8C]\n\t(No symbol) [0x00A52328]\n\t(No symbol) [0x00A5240B]\n\t(No symbol) [0x00A44FF7]\n\tBaseThreadInitThunk [0x75977D59+25]\n\tRtlInitializeExceptionChain [0x77CCB74B+107]\n\tRtlClearBits [0x77CCB6CF+191]\n",
     "output_type": "error",
     "traceback": [
      "\u001b[1;31m---------------------------------------------------------------------------\u001b[0m",
      "\u001b[1;31mElementClickInterceptedException\u001b[0m          Traceback (most recent call last)",
      "Cell \u001b[1;32mIn[202], line 17\u001b[0m\n\u001b[0;32m     15\u001b[0m \u001b[39mwhile\u001b[39;00m \u001b[39mTrue\u001b[39;00m:\n\u001b[0;32m     16\u001b[0m     load_more \u001b[39m=\u001b[39m driver\u001b[39m.\u001b[39mfind_element(By\u001b[39m.\u001b[39mXPATH, \u001b[39m'\u001b[39m\u001b[39m//input[@value=\u001b[39m\u001b[39m\"\u001b[39m\u001b[39mLOAD MORE\u001b[39m\u001b[39m\"\u001b[39m\u001b[39m]\u001b[39m\u001b[39m'\u001b[39m)\n\u001b[1;32m---> 17\u001b[0m     load_more\u001b[39m.\u001b[39;49mclick()\n\u001b[0;32m     18\u001b[0m     time\u001b[39m.\u001b[39msleep(\u001b[39m5\u001b[39m)\n\u001b[0;32m     19\u001b[0m     \u001b[39mprint\u001b[39m(\u001b[39m'\u001b[39m\u001b[39mLoading more data ...\u001b[39m\u001b[39m'\u001b[39m)\n",
      "File \u001b[1;32mc:\\Users\\cmwak\\anaconda3\\lib\\site-packages\\selenium\\webdriver\\remote\\webelement.py:89\u001b[0m, in \u001b[0;36mWebElement.click\u001b[1;34m(self)\u001b[0m\n\u001b[0;32m     87\u001b[0m \u001b[39mdef\u001b[39;00m \u001b[39mclick\u001b[39m(\u001b[39mself\u001b[39m) \u001b[39m-\u001b[39m\u001b[39m>\u001b[39m \u001b[39mNone\u001b[39;00m:\n\u001b[0;32m     88\u001b[0m \u001b[39m    \u001b[39m\u001b[39m\"\"\"Clicks the element.\"\"\"\u001b[39;00m\n\u001b[1;32m---> 89\u001b[0m     \u001b[39mself\u001b[39;49m\u001b[39m.\u001b[39;49m_execute(Command\u001b[39m.\u001b[39;49mCLICK_ELEMENT)\n",
      "File \u001b[1;32mc:\\Users\\cmwak\\anaconda3\\lib\\site-packages\\selenium\\webdriver\\remote\\webelement.py:773\u001b[0m, in \u001b[0;36mWebElement._execute\u001b[1;34m(self, command, params)\u001b[0m\n\u001b[0;32m    771\u001b[0m     params \u001b[39m=\u001b[39m {}\n\u001b[0;32m    772\u001b[0m params[\u001b[39m'\u001b[39m\u001b[39mid\u001b[39m\u001b[39m'\u001b[39m] \u001b[39m=\u001b[39m \u001b[39mself\u001b[39m\u001b[39m.\u001b[39m_id\n\u001b[1;32m--> 773\u001b[0m \u001b[39mreturn\u001b[39;00m \u001b[39mself\u001b[39;49m\u001b[39m.\u001b[39;49m_parent\u001b[39m.\u001b[39;49mexecute(command, params)\n",
      "File \u001b[1;32mc:\\Users\\cmwak\\anaconda3\\lib\\site-packages\\selenium\\webdriver\\remote\\webdriver.py:430\u001b[0m, in \u001b[0;36mWebDriver.execute\u001b[1;34m(self, driver_command, params)\u001b[0m\n\u001b[0;32m    428\u001b[0m response \u001b[39m=\u001b[39m \u001b[39mself\u001b[39m\u001b[39m.\u001b[39mcommand_executor\u001b[39m.\u001b[39mexecute(driver_command, params)\n\u001b[0;32m    429\u001b[0m \u001b[39mif\u001b[39;00m response:\n\u001b[1;32m--> 430\u001b[0m     \u001b[39mself\u001b[39;49m\u001b[39m.\u001b[39;49merror_handler\u001b[39m.\u001b[39;49mcheck_response(response)\n\u001b[0;32m    431\u001b[0m     response[\u001b[39m'\u001b[39m\u001b[39mvalue\u001b[39m\u001b[39m'\u001b[39m] \u001b[39m=\u001b[39m \u001b[39mself\u001b[39m\u001b[39m.\u001b[39m_unwrap_value(\n\u001b[0;32m    432\u001b[0m         response\u001b[39m.\u001b[39mget(\u001b[39m'\u001b[39m\u001b[39mvalue\u001b[39m\u001b[39m'\u001b[39m, \u001b[39mNone\u001b[39;00m))\n\u001b[0;32m    433\u001b[0m     \u001b[39mreturn\u001b[39;00m response\n",
      "File \u001b[1;32mc:\\Users\\cmwak\\anaconda3\\lib\\site-packages\\selenium\\webdriver\\remote\\errorhandler.py:247\u001b[0m, in \u001b[0;36mErrorHandler.check_response\u001b[1;34m(self, response)\u001b[0m\n\u001b[0;32m    245\u001b[0m         alert_text \u001b[39m=\u001b[39m value[\u001b[39m'\u001b[39m\u001b[39malert\u001b[39m\u001b[39m'\u001b[39m]\u001b[39m.\u001b[39mget(\u001b[39m'\u001b[39m\u001b[39mtext\u001b[39m\u001b[39m'\u001b[39m)\n\u001b[0;32m    246\u001b[0m     \u001b[39mraise\u001b[39;00m exception_class(message, screen, stacktrace, alert_text)  \u001b[39m# type: ignore[call-arg]  # mypy is not smart enough here\u001b[39;00m\n\u001b[1;32m--> 247\u001b[0m \u001b[39mraise\u001b[39;00m exception_class(message, screen, stacktrace)\n",
      "\u001b[1;31mElementClickInterceptedException\u001b[0m: Message: element click intercepted: Element is not clickable at point (759, 3696)\n  (Session info: chrome=114.0.5735.110)\nStacktrace:\nBacktrace:\n\tGetHandleVerifier [0x00ABA813+48355]\n\t(No symbol) [0x00A4C4B1]\n\t(No symbol) [0x00955358]\n\t(No symbol) [0x00985062]\n\t(No symbol) [0x00983B98]\n\t(No symbol) [0x0098239B]\n\t(No symbol) [0x0098179E]\n\t(No symbol) [0x00979F5C]\n\t(No symbol) [0x0099A73C]\n\t(No symbol) [0x00979A36]\n\t(No symbol) [0x0099AA94]\n\t(No symbol) [0x009AC922]\n\t(No symbol) [0x0099A536]\n\t(No symbol) [0x009782DC]\n\t(No symbol) [0x009793DD]\n\tGetHandleVerifier [0x00D1AABD+2539405]\n\tGetHandleVerifier [0x00D5A78F+2800735]\n\tGetHandleVerifier [0x00D5456C+2775612]\n\tGetHandleVerifier [0x00B451E0+616112]\n\t(No symbol) [0x00A55F8C]\n\t(No symbol) [0x00A52328]\n\t(No symbol) [0x00A5240B]\n\t(No symbol) [0x00A44FF7]\n\tBaseThreadInitThunk [0x75977D59+25]\n\tRtlInitializeExceptionChain [0x77CCB74B+107]\n\tRtlClearBits [0x77CCB6CF+191]\n"
     ]
    }
   ],
   "source": [
    "motorhub = 'https://www.motorhub.co.ke/all-stock'\n",
    "## path to the chromedriver\n",
    "path = 'C:/Users/cmwak/chrome_driver/chromedriver'\n",
    "driver = webdriver.Chrome(service=Service(path))\n",
    "driver.maximize_window()\n",
    "driver.get(motorhub)\n",
    "\n",
    "time.sleep(2)\n",
    "\n",
    "# Click the accept cookies button\n",
    "accept_button = driver.find_element(By.XPATH, \"//button[text()='Accept']\")\n",
    "accept_button.click()\n",
    "\n",
    "## get the data\n",
    "while True:\n",
    "    load_more = driver.find_element(By.XPATH, '//input[@value=\"LOAD MORE\"]')\n",
    "    load_more.click()\n",
    "    time.sleep(5)\n",
    "    print('Loading more data ...')\n",
    "    \n",
    "#webdriver.ActionChains(driver).move_to_element(element ).click(element ).perform()\n"
   ]
  },
  {
   "cell_type": "code",
   "execution_count": null,
   "metadata": {},
   "outputs": [],
   "source": []
  }
 ],
 "metadata": {
  "kernelspec": {
   "display_name": "base",
   "language": "python",
   "name": "python3"
  },
  "language_info": {
   "codemirror_mode": {
    "name": "ipython",
    "version": 3
   },
   "file_extension": ".py",
   "mimetype": "text/x-python",
   "name": "python",
   "nbconvert_exporter": "python",
   "pygments_lexer": "ipython3",
   "version": "3.9.13"
  },
  "orig_nbformat": 4
 },
 "nbformat": 4,
 "nbformat_minor": 2
}
