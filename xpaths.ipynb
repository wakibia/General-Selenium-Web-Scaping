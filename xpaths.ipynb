{
 "cells": [
  {
   "attachments": {},
   "cell_type": "markdown",
   "metadata": {},
   "source": [
    "## <center>Xpaths</center>\n",
    "\n",
    "**General syntax**\n",
    "\n",
    "//tagName[@AttributeName=\"Value\"]\n",
    "\n",
    "where the tagname is h1, h2, ..., attribute is like class/id, and their corresponding vales\n",
    "\n",
    "You can also search using functions e.g., contains(), starts_width\n",
    "\n",
    "eg: //tagName[contains(@AttributeName, \"Value\")]\n",
    "\n",
    "You can also use logical operators and/or\n",
    " \n",
    "//tagName[(expression 1) and (expression 2)]"
   ]
  },
  {
   "cell_type": "markdown",
   "metadata": {},
   "source": []
  }
 ],
 "metadata": {
  "language_info": {
   "name": "python"
  },
  "orig_nbformat": 4
 },
 "nbformat": 4,
 "nbformat_minor": 2
}
