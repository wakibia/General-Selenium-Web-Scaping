{
 "cells": [
  {
   "cell_type": "code",
   "execution_count": 1,
   "metadata": {},
   "outputs": [],
   "source": [
    "## load libraries\n",
    "from selenium import webdriver\n",
    "from selenium.webdriver.common.keys import Keys\n",
    "from selenium.webdriver.support.ui import WebDriverWait\n",
    "from selenium.webdriver.support import expected_conditions as EC\n",
    "from selenium.webdriver.common.by import By\n",
    "from selenium.common.exceptions import TimeoutException, NoSuchElementException, StaleElementReferenceException\n",
    "import time\n",
    "import os\n",
    "import pandas as pd\n",
    "import numpy as np\n",
    "\n",
    "\n",
    "## the driver helps tio scrape websites"
   ]
  },
  {
   "cell_type": "code",
   "execution_count": 2,
   "metadata": {},
   "outputs": [
    {
     "name": "stderr",
     "output_type": "stream",
     "text": [
      "C:\\Users\\cmwak\\AppData\\Local\\Temp\\ipykernel_23360\\4048527110.py:5: DeprecationWarning: executable_path has been deprecated, please pass in a Service object\n",
      "  driver = webdriver.Chrome(path)\n",
      "C:\\Users\\cmwak\\AppData\\Local\\Temp\\ipykernel_23360\\4048527110.py:10: DeprecationWarning: find_element_by_xpath is deprecated. Please use find_element(by=By.XPATH, value=xpath) instead\n",
      "  all_cars_button = driver.find_element_by_xpath('//div[contains(@class, \"loadmore-wrap\")]')\n"
     ]
    },
    {
     "ename": "ElementClickInterceptedException",
     "evalue": "Message: element click intercepted: Element is not clickable at point (509, 3448)\n  (Session info: chrome=111.0.5563.147)\nStacktrace:\nBacktrace:\n\t(No symbol) [0x007637D3]\n\t(No symbol) [0x006F8B81]\n\t(No symbol) [0x005FB36D]\n\t(No symbol) [0x00634E3B]\n\t(No symbol) [0x006326DB]\n\t(No symbol) [0x0062FD0B]\n\t(No symbol) [0x0062E4D8]\n\t(No symbol) [0x00623253]\n\t(No symbol) [0x0064B41C]\n\t(No symbol) [0x00622B96]\n\t(No symbol) [0x0064B774]\n\t(No symbol) [0x00661215]\n\t(No symbol) [0x0064B216]\n\t(No symbol) [0x00620D97]\n\t(No symbol) [0x0062253D]\n\tGetHandleVerifier [0x009DABF2+2510930]\n\tGetHandleVerifier [0x00A08EC1+2700065]\n\tGetHandleVerifier [0x00A0C86C+2714828]\n\tGetHandleVerifier [0x00813480+645344]\n\t(No symbol) [0x00700FD2]\n\t(No symbol) [0x00706C68]\n\t(No symbol) [0x00706D4B]\n\t(No symbol) [0x00710D6B]\n\tBaseThreadInitThunk [0x76C57D69+25]\n\tRtlInitializeExceptionChain [0x7790B74B+107]\n\tRtlClearBits [0x7790B6CF+191]\n",
     "output_type": "error",
     "traceback": [
      "\u001b[1;31m---------------------------------------------------------------------------\u001b[0m",
      "\u001b[1;31mElementClickInterceptedException\u001b[0m          Traceback (most recent call last)",
      "Cell \u001b[1;32mIn[2], line 13\u001b[0m\n\u001b[0;32m     10\u001b[0m all_cars_button \u001b[39m=\u001b[39m driver\u001b[39m.\u001b[39mfind_element_by_xpath(\u001b[39m'\u001b[39m\u001b[39m//div[contains(@class, \u001b[39m\u001b[39m\"\u001b[39m\u001b[39mloadmore-wrap\u001b[39m\u001b[39m\"\u001b[39m\u001b[39m)]\u001b[39m\u001b[39m'\u001b[39m)\n\u001b[0;32m     11\u001b[0m \u001b[39m# all_cars = driver.find_element_by_xpath('//div[contains(@class, \"listingWrapper\")]')\u001b[39;00m\n\u001b[1;32m---> 13\u001b[0m all_cars_button\u001b[39m.\u001b[39;49mclick()\n",
      "File \u001b[1;32mc:\\Users\\cmwak\\anaconda3\\lib\\site-packages\\selenium\\webdriver\\remote\\webelement.py:89\u001b[0m, in \u001b[0;36mWebElement.click\u001b[1;34m(self)\u001b[0m\n\u001b[0;32m     87\u001b[0m \u001b[39mdef\u001b[39;00m \u001b[39mclick\u001b[39m(\u001b[39mself\u001b[39m) \u001b[39m-\u001b[39m\u001b[39m>\u001b[39m \u001b[39mNone\u001b[39;00m:\n\u001b[0;32m     88\u001b[0m \u001b[39m    \u001b[39m\u001b[39m\"\"\"Clicks the element.\"\"\"\u001b[39;00m\n\u001b[1;32m---> 89\u001b[0m     \u001b[39mself\u001b[39;49m\u001b[39m.\u001b[39;49m_execute(Command\u001b[39m.\u001b[39;49mCLICK_ELEMENT)\n",
      "File \u001b[1;32mc:\\Users\\cmwak\\anaconda3\\lib\\site-packages\\selenium\\webdriver\\remote\\webelement.py:773\u001b[0m, in \u001b[0;36mWebElement._execute\u001b[1;34m(self, command, params)\u001b[0m\n\u001b[0;32m    771\u001b[0m     params \u001b[39m=\u001b[39m {}\n\u001b[0;32m    772\u001b[0m params[\u001b[39m'\u001b[39m\u001b[39mid\u001b[39m\u001b[39m'\u001b[39m] \u001b[39m=\u001b[39m \u001b[39mself\u001b[39m\u001b[39m.\u001b[39m_id\n\u001b[1;32m--> 773\u001b[0m \u001b[39mreturn\u001b[39;00m \u001b[39mself\u001b[39;49m\u001b[39m.\u001b[39;49m_parent\u001b[39m.\u001b[39;49mexecute(command, params)\n",
      "File \u001b[1;32mc:\\Users\\cmwak\\anaconda3\\lib\\site-packages\\selenium\\webdriver\\remote\\webdriver.py:430\u001b[0m, in \u001b[0;36mWebDriver.execute\u001b[1;34m(self, driver_command, params)\u001b[0m\n\u001b[0;32m    428\u001b[0m response \u001b[39m=\u001b[39m \u001b[39mself\u001b[39m\u001b[39m.\u001b[39mcommand_executor\u001b[39m.\u001b[39mexecute(driver_command, params)\n\u001b[0;32m    429\u001b[0m \u001b[39mif\u001b[39;00m response:\n\u001b[1;32m--> 430\u001b[0m     \u001b[39mself\u001b[39;49m\u001b[39m.\u001b[39;49merror_handler\u001b[39m.\u001b[39;49mcheck_response(response)\n\u001b[0;32m    431\u001b[0m     response[\u001b[39m'\u001b[39m\u001b[39mvalue\u001b[39m\u001b[39m'\u001b[39m] \u001b[39m=\u001b[39m \u001b[39mself\u001b[39m\u001b[39m.\u001b[39m_unwrap_value(\n\u001b[0;32m    432\u001b[0m         response\u001b[39m.\u001b[39mget(\u001b[39m'\u001b[39m\u001b[39mvalue\u001b[39m\u001b[39m'\u001b[39m, \u001b[39mNone\u001b[39;00m))\n\u001b[0;32m    433\u001b[0m     \u001b[39mreturn\u001b[39;00m response\n",
      "File \u001b[1;32mc:\\Users\\cmwak\\anaconda3\\lib\\site-packages\\selenium\\webdriver\\remote\\errorhandler.py:247\u001b[0m, in \u001b[0;36mErrorHandler.check_response\u001b[1;34m(self, response)\u001b[0m\n\u001b[0;32m    245\u001b[0m         alert_text \u001b[39m=\u001b[39m value[\u001b[39m'\u001b[39m\u001b[39malert\u001b[39m\u001b[39m'\u001b[39m]\u001b[39m.\u001b[39mget(\u001b[39m'\u001b[39m\u001b[39mtext\u001b[39m\u001b[39m'\u001b[39m)\n\u001b[0;32m    246\u001b[0m     \u001b[39mraise\u001b[39;00m exception_class(message, screen, stacktrace, alert_text)  \u001b[39m# type: ignore[call-arg]  # mypy is not smart enough here\u001b[39;00m\n\u001b[1;32m--> 247\u001b[0m \u001b[39mraise\u001b[39;00m exception_class(message, screen, stacktrace)\n",
      "\u001b[1;31mElementClickInterceptedException\u001b[0m: Message: element click intercepted: Element is not clickable at point (509, 3448)\n  (Session info: chrome=111.0.5563.147)\nStacktrace:\nBacktrace:\n\t(No symbol) [0x007637D3]\n\t(No symbol) [0x006F8B81]\n\t(No symbol) [0x005FB36D]\n\t(No symbol) [0x00634E3B]\n\t(No symbol) [0x006326DB]\n\t(No symbol) [0x0062FD0B]\n\t(No symbol) [0x0062E4D8]\n\t(No symbol) [0x00623253]\n\t(No symbol) [0x0064B41C]\n\t(No symbol) [0x00622B96]\n\t(No symbol) [0x0064B774]\n\t(No symbol) [0x00661215]\n\t(No symbol) [0x0064B216]\n\t(No symbol) [0x00620D97]\n\t(No symbol) [0x0062253D]\n\tGetHandleVerifier [0x009DABF2+2510930]\n\tGetHandleVerifier [0x00A08EC1+2700065]\n\tGetHandleVerifier [0x00A0C86C+2714828]\n\tGetHandleVerifier [0x00813480+645344]\n\t(No symbol) [0x00700FD2]\n\t(No symbol) [0x00706C68]\n\t(No symbol) [0x00706D4B]\n\t(No symbol) [0x00710D6B]\n\tBaseThreadInitThunk [0x76C57D69+25]\n\tRtlInitializeExceptionChain [0x7790B74B+107]\n\tRtlClearBits [0x7790B6CF+191]\n"
     ]
    }
   ],
   "source": [
    "\n",
    "# define the website to scrape and path where the chromediver is located\n",
    "website = 'https://www.motorhub.co.ke/all-stock'\n",
    "path = 'C:/Users/cmwak/chrome_driver/chromedriver'\n",
    "# define 'driver' variable\n",
    "driver = webdriver.Chrome(path)\n",
    "# open Google Chrome with chromedriver\n",
    "driver.get(website)\n",
    "\n",
    "# locate and click on a button\n",
    "all_cars_button = driver.find_element_by_xpath('//div[contains(@class, \"loadmore-wrap\")]')\n",
    "# all_cars = driver.find_element_by_xpath('//div[contains(@class, \"listingWrapper\")]')\n",
    "\n",
    "all_cars_button.click()"
   ]
  },
  {
   "cell_type": "code",
   "execution_count": null,
   "metadata": {},
   "outputs": [],
   "source": []
  }
 ],
 "metadata": {
  "kernelspec": {
   "display_name": "base",
   "language": "python",
   "name": "python3"
  },
  "language_info": {
   "codemirror_mode": {
    "name": "ipython",
    "version": 3
   },
   "file_extension": ".py",
   "mimetype": "text/x-python",
   "name": "python",
   "nbconvert_exporter": "python",
   "pygments_lexer": "ipython3",
   "version": "3.9.13"
  },
  "orig_nbformat": 4
 },
 "nbformat": 4,
 "nbformat_minor": 2
}
