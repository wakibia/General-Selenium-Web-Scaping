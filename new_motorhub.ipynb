{
 "cells": [
  {
   "cell_type": "code",
   "execution_count": 5,
   "metadata": {},
   "outputs": [],
   "source": [
    "## import library\n",
    "## load libraries\n",
    "from selenium import webdriver\n",
    "from selenium.webdriver.common.keys import Keys\n",
    "from selenium.webdriver.support.ui import WebDriverWait\n",
    "from selenium.webdriver.support import expected_conditions as EC\n",
    "from selenium.webdriver.common.by import By\n",
    "from selenium.common.exceptions import TimeoutException, NoSuchElementException, StaleElementReferenceException\n",
    "import time\n",
    "import os\n",
    "import pandas as pd\n",
    "import numpy as np\n"
   ]
  },
  {
   "cell_type": "code",
   "execution_count": 8,
   "metadata": {},
   "outputs": [
    {
     "name": "stderr",
     "output_type": "stream",
     "text": [
      "C:\\Users\\cmwak\\AppData\\Local\\Temp\\ipykernel_1292\\3583516574.py:7: DeprecationWarning: executable_path has been deprecated, please pass in a Service object\n",
      "  driver = webdriver.Chrome(path)\n",
      "C:\\Users\\cmwak\\AppData\\Local\\Temp\\ipykernel_1292\\3583516574.py:16: DeprecationWarning: find_element_by_xpath is deprecated. Please use find_element(by=By.XPATH, value=xpath) instead\n",
      "  accept_button = driver.find_element_by_xpath(\"//button[text()='Accept']\")\n",
      "C:\\Users\\cmwak\\AppData\\Local\\Temp\\ipykernel_1292\\3583516574.py:22: DeprecationWarning: find_element_by_xpath is deprecated. Please use find_element(by=By.XPATH, value=xpath) instead\n",
      "  load_more = driver.find_element_by_xpath('//input[@value=\"LOAD MORE\"]')\n"
     ]
    }
   ],
   "source": [
    "## website to scrape\n",
    "\n",
    "website = \"https://www.motorhub.co.ke/all-stock\"\n",
    "path = 'C:/Users/cmwak/chrome_driver/chromedriver'\n",
    "\n",
    "## define a driver variable'\n",
    "driver = webdriver.Chrome(path)\n",
    "\n",
    "## open the driver\n",
    "driver.get(website)\n",
    "\n",
    "## maximize the window to display all over the screen\n",
    "driver.maximize_window()\n",
    "\n",
    "# Click the accept cookies button\n",
    "accept_button = driver.find_element_by_xpath(\"//button[text()='Accept']\")\n",
    "accept_button.click()\n",
    "\n",
    "## load more button\n",
    "while True:\n",
    "    try:\n",
    "        load_more = driver.find_element_by_xpath('//input[@value=\"LOAD MORE\"]')\n",
    "        load_more.click()\n",
    "        time.sleep(5)\n",
    "        driver.execute_script(\"window.scrollTo(0, document.body.scrollHeight);\")\n",
    "        time.sleep(5)\n",
    "        load_more.click()\n",
    "    except:\n",
    "        break\n",
    "\n",
    "\n",
    "## driver.quit()"
   ]
  },
  {
   "cell_type": "code",
   "execution_count": 7,
   "metadata": {},
   "outputs": [
    {
     "name": "stderr",
     "output_type": "stream",
     "text": [
      "C:\\Users\\cmwak\\AppData\\Local\\Temp\\ipykernel_1292\\3634256028.py:7: DeprecationWarning: executable_path has been deprecated, please pass in a Service object\n",
      "  driver = webdriver.Chrome(path)\n"
     ]
    },
    {
     "ename": "SessionNotCreatedException",
     "evalue": "Message: session not created: This version of ChromeDriver only supports Chrome version 110\nCurrent browser version is 112.0.5615.86 with binary path C:\\Program Files\\Google\\Chrome\\Application\\chrome.exe\nStacktrace:\nBacktrace:\n\t(No symbol) [0x005837D3]\n\t(No symbol) [0x00518B81]\n\t(No symbol) [0x0041B36D]\n\t(No symbol) [0x0043ED6D]\n\t(No symbol) [0x00439B90]\n\t(No symbol) [0x00436FC9]\n\t(No symbol) [0x00471ED5]\n\t(No symbol) [0x00471B2C]\n\t(No symbol) [0x0046B216]\n\t(No symbol) [0x00440D97]\n\t(No symbol) [0x0044253D]\n\tGetHandleVerifier [0x007FABF2+2510930]\n\tGetHandleVerifier [0x00828EC1+2700065]\n\tGetHandleVerifier [0x0082C86C+2714828]\n\tGetHandleVerifier [0x00633480+645344]\n\t(No symbol) [0x00520FD2]\n\t(No symbol) [0x00526C68]\n\t(No symbol) [0x00526D4B]\n\t(No symbol) [0x00530D6B]\n\tBaseThreadInitThunk [0x75D47D49+25]\n\tRtlInitializeExceptionChain [0x77ADB74B+107]\n\tRtlClearBits [0x77ADB6CF+191]\n",
     "output_type": "error",
     "traceback": [
      "\u001b[1;31m---------------------------------------------------------------------------\u001b[0m",
      "\u001b[1;31mSessionNotCreatedException\u001b[0m                Traceback (most recent call last)",
      "Cell \u001b[1;32mIn[7], line 7\u001b[0m\n\u001b[0;32m      4\u001b[0m path \u001b[39m=\u001b[39m \u001b[39m'\u001b[39m\u001b[39mC:/Users/cmwak/chrome_driver/chromedriver\u001b[39m\u001b[39m'\u001b[39m\n\u001b[0;32m      6\u001b[0m \u001b[39m## define a driver variable'\u001b[39;00m\n\u001b[1;32m----> 7\u001b[0m driver \u001b[39m=\u001b[39m webdriver\u001b[39m.\u001b[39;49mChrome(path)\n\u001b[0;32m      9\u001b[0m \u001b[39m## open the driver\u001b[39;00m\n\u001b[0;32m     10\u001b[0m driver\u001b[39m.\u001b[39mget(website)\n",
      "File \u001b[1;32mc:\\Users\\cmwak\\anaconda3\\lib\\site-packages\\selenium\\webdriver\\chrome\\webdriver.py:70\u001b[0m, in \u001b[0;36mWebDriver.__init__\u001b[1;34m(self, executable_path, port, options, service_args, desired_capabilities, service_log_path, chrome_options, service, keep_alive)\u001b[0m\n\u001b[0;32m     67\u001b[0m \u001b[39mif\u001b[39;00m \u001b[39mnot\u001b[39;00m service:\n\u001b[0;32m     68\u001b[0m     service \u001b[39m=\u001b[39m Service(executable_path, port, service_args, service_log_path)\n\u001b[1;32m---> 70\u001b[0m \u001b[39msuper\u001b[39;49m(WebDriver, \u001b[39mself\u001b[39;49m)\u001b[39m.\u001b[39;49m\u001b[39m__init__\u001b[39;49m(DesiredCapabilities\u001b[39m.\u001b[39;49mCHROME[\u001b[39m'\u001b[39;49m\u001b[39mbrowserName\u001b[39;49m\u001b[39m'\u001b[39;49m], \u001b[39m\"\u001b[39;49m\u001b[39mgoog\u001b[39;49m\u001b[39m\"\u001b[39;49m,\n\u001b[0;32m     71\u001b[0m                                 port, options,\n\u001b[0;32m     72\u001b[0m                                 service_args, desired_capabilities,\n\u001b[0;32m     73\u001b[0m                                 service_log_path, service, keep_alive)\n",
      "File \u001b[1;32mc:\\Users\\cmwak\\anaconda3\\lib\\site-packages\\selenium\\webdriver\\chromium\\webdriver.py:92\u001b[0m, in \u001b[0;36mChromiumDriver.__init__\u001b[1;34m(self, browser_name, vendor_prefix, port, options, service_args, desired_capabilities, service_log_path, service, keep_alive)\u001b[0m\n\u001b[0;32m     89\u001b[0m \u001b[39mself\u001b[39m\u001b[39m.\u001b[39mservice\u001b[39m.\u001b[39mstart()\n\u001b[0;32m     91\u001b[0m \u001b[39mtry\u001b[39;00m:\n\u001b[1;32m---> 92\u001b[0m     RemoteWebDriver\u001b[39m.\u001b[39;49m\u001b[39m__init__\u001b[39;49m(\n\u001b[0;32m     93\u001b[0m         \u001b[39mself\u001b[39;49m,\n\u001b[0;32m     94\u001b[0m         command_executor\u001b[39m=\u001b[39;49mChromiumRemoteConnection(\n\u001b[0;32m     95\u001b[0m             remote_server_addr\u001b[39m=\u001b[39;49m\u001b[39mself\u001b[39;49m\u001b[39m.\u001b[39;49mservice\u001b[39m.\u001b[39;49mservice_url,\n\u001b[0;32m     96\u001b[0m             browser_name\u001b[39m=\u001b[39;49mbrowser_name, vendor_prefix\u001b[39m=\u001b[39;49mvendor_prefix,\n\u001b[0;32m     97\u001b[0m             keep_alive\u001b[39m=\u001b[39;49mkeep_alive, ignore_proxy\u001b[39m=\u001b[39;49m_ignore_proxy),\n\u001b[0;32m     98\u001b[0m         options\u001b[39m=\u001b[39;49moptions)\n\u001b[0;32m     99\u001b[0m \u001b[39mexcept\u001b[39;00m \u001b[39mException\u001b[39;00m:\n\u001b[0;32m    100\u001b[0m     \u001b[39mself\u001b[39m\u001b[39m.\u001b[39mquit()\n",
      "File \u001b[1;32mc:\\Users\\cmwak\\anaconda3\\lib\\site-packages\\selenium\\webdriver\\remote\\webdriver.py:275\u001b[0m, in \u001b[0;36mWebDriver.__init__\u001b[1;34m(self, command_executor, desired_capabilities, browser_profile, proxy, keep_alive, file_detector, options)\u001b[0m\n\u001b[0;32m    273\u001b[0m \u001b[39mself\u001b[39m\u001b[39m.\u001b[39m_authenticator_id \u001b[39m=\u001b[39m \u001b[39mNone\u001b[39;00m\n\u001b[0;32m    274\u001b[0m \u001b[39mself\u001b[39m\u001b[39m.\u001b[39mstart_client()\n\u001b[1;32m--> 275\u001b[0m \u001b[39mself\u001b[39;49m\u001b[39m.\u001b[39;49mstart_session(capabilities, browser_profile)\n",
      "File \u001b[1;32mc:\\Users\\cmwak\\anaconda3\\lib\\site-packages\\selenium\\webdriver\\remote\\webdriver.py:365\u001b[0m, in \u001b[0;36mWebDriver.start_session\u001b[1;34m(self, capabilities, browser_profile)\u001b[0m\n\u001b[0;32m    363\u001b[0m w3c_caps \u001b[39m=\u001b[39m _make_w3c_caps(capabilities)\n\u001b[0;32m    364\u001b[0m parameters \u001b[39m=\u001b[39m {\u001b[39m\"\u001b[39m\u001b[39mcapabilities\u001b[39m\u001b[39m\"\u001b[39m: w3c_caps}\n\u001b[1;32m--> 365\u001b[0m response \u001b[39m=\u001b[39m \u001b[39mself\u001b[39;49m\u001b[39m.\u001b[39;49mexecute(Command\u001b[39m.\u001b[39;49mNEW_SESSION, parameters)\n\u001b[0;32m    366\u001b[0m \u001b[39mif\u001b[39;00m \u001b[39m'\u001b[39m\u001b[39msessionId\u001b[39m\u001b[39m'\u001b[39m \u001b[39mnot\u001b[39;00m \u001b[39min\u001b[39;00m response:\n\u001b[0;32m    367\u001b[0m     response \u001b[39m=\u001b[39m response[\u001b[39m'\u001b[39m\u001b[39mvalue\u001b[39m\u001b[39m'\u001b[39m]\n",
      "File \u001b[1;32mc:\\Users\\cmwak\\anaconda3\\lib\\site-packages\\selenium\\webdriver\\remote\\webdriver.py:430\u001b[0m, in \u001b[0;36mWebDriver.execute\u001b[1;34m(self, driver_command, params)\u001b[0m\n\u001b[0;32m    428\u001b[0m response \u001b[39m=\u001b[39m \u001b[39mself\u001b[39m\u001b[39m.\u001b[39mcommand_executor\u001b[39m.\u001b[39mexecute(driver_command, params)\n\u001b[0;32m    429\u001b[0m \u001b[39mif\u001b[39;00m response:\n\u001b[1;32m--> 430\u001b[0m     \u001b[39mself\u001b[39;49m\u001b[39m.\u001b[39;49merror_handler\u001b[39m.\u001b[39;49mcheck_response(response)\n\u001b[0;32m    431\u001b[0m     response[\u001b[39m'\u001b[39m\u001b[39mvalue\u001b[39m\u001b[39m'\u001b[39m] \u001b[39m=\u001b[39m \u001b[39mself\u001b[39m\u001b[39m.\u001b[39m_unwrap_value(\n\u001b[0;32m    432\u001b[0m         response\u001b[39m.\u001b[39mget(\u001b[39m'\u001b[39m\u001b[39mvalue\u001b[39m\u001b[39m'\u001b[39m, \u001b[39mNone\u001b[39;00m))\n\u001b[0;32m    433\u001b[0m     \u001b[39mreturn\u001b[39;00m response\n",
      "File \u001b[1;32mc:\\Users\\cmwak\\anaconda3\\lib\\site-packages\\selenium\\webdriver\\remote\\errorhandler.py:247\u001b[0m, in \u001b[0;36mErrorHandler.check_response\u001b[1;34m(self, response)\u001b[0m\n\u001b[0;32m    245\u001b[0m         alert_text \u001b[39m=\u001b[39m value[\u001b[39m'\u001b[39m\u001b[39malert\u001b[39m\u001b[39m'\u001b[39m]\u001b[39m.\u001b[39mget(\u001b[39m'\u001b[39m\u001b[39mtext\u001b[39m\u001b[39m'\u001b[39m)\n\u001b[0;32m    246\u001b[0m     \u001b[39mraise\u001b[39;00m exception_class(message, screen, stacktrace, alert_text)  \u001b[39m# type: ignore[call-arg]  # mypy is not smart enough here\u001b[39;00m\n\u001b[1;32m--> 247\u001b[0m \u001b[39mraise\u001b[39;00m exception_class(message, screen, stacktrace)\n",
      "\u001b[1;31mSessionNotCreatedException\u001b[0m: Message: session not created: This version of ChromeDriver only supports Chrome version 110\nCurrent browser version is 112.0.5615.86 with binary path C:\\Program Files\\Google\\Chrome\\Application\\chrome.exe\nStacktrace:\nBacktrace:\n\t(No symbol) [0x005837D3]\n\t(No symbol) [0x00518B81]\n\t(No symbol) [0x0041B36D]\n\t(No symbol) [0x0043ED6D]\n\t(No symbol) [0x00439B90]\n\t(No symbol) [0x00436FC9]\n\t(No symbol) [0x00471ED5]\n\t(No symbol) [0x00471B2C]\n\t(No symbol) [0x0046B216]\n\t(No symbol) [0x00440D97]\n\t(No symbol) [0x0044253D]\n\tGetHandleVerifier [0x007FABF2+2510930]\n\tGetHandleVerifier [0x00828EC1+2700065]\n\tGetHandleVerifier [0x0082C86C+2714828]\n\tGetHandleVerifier [0x00633480+645344]\n\t(No symbol) [0x00520FD2]\n\t(No symbol) [0x00526C68]\n\t(No symbol) [0x00526D4B]\n\t(No symbol) [0x00530D6B]\n\tBaseThreadInitThunk [0x75D47D49+25]\n\tRtlInitializeExceptionChain [0x77ADB74B+107]\n\tRtlClearBits [0x77ADB6CF+191]\n"
     ]
    }
   ],
   "source": [
    "## website to scrape\n",
    "\n",
    "website = \"https://www.motorhub.co.ke/all-stock\"\n",
    "path = 'C:/Users/cmwak/chrome_driver/chromedriver'\n",
    "\n",
    "## define a driver variable'\n",
    "driver = webdriver.Chrome(path)\n",
    "\n",
    "## open the driver\n",
    "driver.get(website)\n",
    "\n",
    "# Click the accept cookies button\n",
    "accept_button = driver.find_element_by_xpath(\"//button[text()='Accept']\")\n",
    "accept_button.click()\n",
    "\n",
    "\n",
    "WebDriverWait(driver, 10).until(EC.element_to_be_clickable((By.XPATH, '//input[@value=\"LOAD MORE\"]'))).click()\n",
    "\n",
    "time.sleep(3)\n",
    "\n",
    "while True:\n",
    "  ## WebDriverWait(driver, 10).until(EC.element_to_be_clickable((By.XPATH, '//input[@value=\"LOAD MORE\"]'))).click()\n",
    "  driver.execute_script(\"arguments[0].scrollIntoView();\", WebDriverWait(driver, 10).until(EC.visibility_of_element_located((By.XPATH, '//input[@value=\"LOAD MORE\"]'))))\n",
    "  while True:\n",
    "    WebDriverWait(driver, 10).until(EC.element_to_be_clickable((By.XPATH, '//input[@value=\"LOAD MORE\"]'))).click()\n",
    "    \n",
    "  print(\"Load more stories clicked\")"
   ]
  },
  {
   "cell_type": "code",
   "execution_count": 9,
   "metadata": {},
   "outputs": [
    {
     "name": "stderr",
     "output_type": "stream",
     "text": [
      "C:\\Users\\cmwak\\AppData\\Local\\Temp\\ipykernel_1292\\4122023144.py:7: DeprecationWarning: executable_path has been deprecated, please pass in a Service object\n",
      "  driver = webdriver.Chrome(path)\n",
      "C:\\Users\\cmwak\\AppData\\Local\\Temp\\ipykernel_1292\\4122023144.py:14: DeprecationWarning: find_element_by_* commands are deprecated. Please use find_element() instead\n",
      "  accept_cookie = driver.find_element_by_id(\"onetrust-accept-btn-handler\")\n"
     ]
    },
    {
     "name": "stdout",
     "output_type": "stream",
     "text": [
      "Load more stories clicked\n",
      "Load more stories clicked\n",
      "Load more stories clicked\n",
      "Load more stories clicked\n",
      "Load more stories clicked\n"
     ]
    }
   ],
   "source": [
    "## website to scrape\n",
    "\n",
    "website = \"https://www.npr.org/sections/news/\"\n",
    "path = 'C:/Users/cmwak/chrome_driver/chromedriver'\n",
    "\n",
    "## define a driver variable'\n",
    "driver = webdriver.Chrome(path)\n",
    "\n",
    "## open the driver\n",
    "driver.get(website)\n",
    "driver.maximize_window()\n",
    "\n",
    "time.sleep(3)\n",
    "accept_cookie = driver.find_element_by_id(\"onetrust-accept-btn-handler\")\n",
    "accept_cookie.click()\n",
    "\n",
    "time.sleep(3)\n",
    "\n",
    "## close the pop up\n",
    "#close_pop_up = driver.find_element_by_xpath('//button[@class = \"pn-modal__close\"]')\n",
    "#try:\n",
    "#  close_pop_up.click()\n",
    "#except:\n",
    "#  pass\n",
    "\n",
    "\n",
    "## WebDriverWait(driver, 10).until(EC.element_to_be_clickable((By.CSS_SELECTOR, \"button.global-modal__dismiss\"))).click()\n",
    "try:\n",
    "  driver.execute_script(\"arguments[0].scrollIntoView();\", WebDriverWait(driver, 20)).until(EC.element_to_be_clickable((By.XPATH, '//button[@class = \"pn-modal__close\"]'))).click()\n",
    "except:\n",
    "  pass\n",
    "\n",
    "time.sleep(5)\n",
    "for i in range(5):\n",
    "  driver.execute_script(\"arguments[0].scrollIntoView();\", WebDriverWait(driver, 10).until(EC.visibility_of_element_located((By.CSS_SELECTOR, \"button.options__load-more\"))))\n",
    "  WebDriverWait(driver, 10).until(EC.element_to_be_clickable((By.CSS_SELECTOR, \"button.options__load-more\"))).click()\n",
    "  print(\"Load more stories clicked\")"
   ]
  },
  {
   "cell_type": "code",
   "execution_count": 30,
   "metadata": {},
   "outputs": [
    {
     "name": "stderr",
     "output_type": "stream",
     "text": [
      "C:\\Users\\cmwak\\AppData\\Local\\Temp\\ipykernel_1292\\1593186258.py:7: DeprecationWarning: executable_path has been deprecated, please pass in a Service object\n",
      "  driver = webdriver.Chrome(path)\n",
      "C:\\Users\\cmwak\\AppData\\Local\\Temp\\ipykernel_1292\\1593186258.py:13: DeprecationWarning: find_element_by_xpath is deprecated. Please use find_element(by=By.XPATH, value=xpath) instead\n",
      "  accept_button = driver.find_element_by_xpath(\"//button[text()='Accept']\")\n"
     ]
    },
    {
     "ename": "MoveTargetOutOfBoundsException",
     "evalue": "Message: move target out of bounds\n  (Session info: chrome=112.0.5615.121)\nStacktrace:\nBacktrace:\n\tGetHandleVerifier [0x00FADCE3+50899]\n\t(No symbol) [0x00F3E111]\n\t(No symbol) [0x00E45450]\n\t(No symbol) [0x00EA4ED1]\n\t(No symbol) [0x00E8B8FC]\n\t(No symbol) [0x00E9E01C]\n\t(No symbol) [0x00E8B6F6]\n\t(No symbol) [0x00E67708]\n\t(No symbol) [0x00E6886D]\n\tGetHandleVerifier [0x01213EAE+2566302]\n\tGetHandleVerifier [0x012492B1+2784417]\n\tGetHandleVerifier [0x0124327C+2759788]\n\tGetHandleVerifier [0x01045740+672048]\n\t(No symbol) [0x00F48872]\n\t(No symbol) [0x00F441C8]\n\t(No symbol) [0x00F442AB]\n\t(No symbol) [0x00F371B7]\n\tBaseThreadInitThunk [0x75D47D49+25]\n\tRtlInitializeExceptionChain [0x77ADB74B+107]\n\tRtlClearBits [0x77ADB6CF+191]\n",
     "output_type": "error",
     "traceback": [
      "\u001b[1;31m---------------------------------------------------------------------------\u001b[0m",
      "\u001b[1;31mMoveTargetOutOfBoundsException\u001b[0m            Traceback (most recent call last)",
      "Cell \u001b[1;32mIn[30], line 30\u001b[0m\n\u001b[0;32m     28\u001b[0m \u001b[39m# Scroll to the \"LOAD MORE\" button\u001b[39;00m\n\u001b[0;32m     29\u001b[0m actions \u001b[39m=\u001b[39m ActionChains(driver)\n\u001b[1;32m---> 30\u001b[0m actions\u001b[39m.\u001b[39;49mmove_to_element(load_more_button)\u001b[39m.\u001b[39;49mperform()\n\u001b[0;32m     32\u001b[0m \u001b[39m# Click the \"LOAD MORE\" button\u001b[39;00m\n\u001b[0;32m     33\u001b[0m actions\u001b[39m.\u001b[39mclick(load_more_button)\u001b[39m.\u001b[39mperform()\n",
      "File \u001b[1;32mc:\\Users\\cmwak\\anaconda3\\lib\\site-packages\\selenium\\webdriver\\common\\action_chains.py:79\u001b[0m, in \u001b[0;36mActionChains.perform\u001b[1;34m(self)\u001b[0m\n\u001b[0;32m     75\u001b[0m \u001b[39mdef\u001b[39;00m \u001b[39mperform\u001b[39m(\u001b[39mself\u001b[39m):\n\u001b[0;32m     76\u001b[0m \u001b[39m    \u001b[39m\u001b[39m\"\"\"\u001b[39;00m\n\u001b[0;32m     77\u001b[0m \u001b[39m    Performs all stored actions.\u001b[39;00m\n\u001b[0;32m     78\u001b[0m \u001b[39m    \"\"\"\u001b[39;00m\n\u001b[1;32m---> 79\u001b[0m     \u001b[39mself\u001b[39;49m\u001b[39m.\u001b[39;49mw3c_actions\u001b[39m.\u001b[39;49mperform()\n",
      "File \u001b[1;32mc:\\Users\\cmwak\\anaconda3\\lib\\site-packages\\selenium\\webdriver\\common\\actions\\action_builder.py:88\u001b[0m, in \u001b[0;36mActionBuilder.perform\u001b[1;34m(self)\u001b[0m\n\u001b[0;32m     86\u001b[0m         enc[\u001b[39m\"\u001b[39m\u001b[39mactions\u001b[39m\u001b[39m\"\u001b[39m]\u001b[39m.\u001b[39mappend(encoded)\n\u001b[0;32m     87\u001b[0m         device\u001b[39m.\u001b[39mactions \u001b[39m=\u001b[39m []\n\u001b[1;32m---> 88\u001b[0m \u001b[39mself\u001b[39;49m\u001b[39m.\u001b[39;49mdriver\u001b[39m.\u001b[39;49mexecute(Command\u001b[39m.\u001b[39;49mW3C_ACTIONS, enc)\n",
      "File \u001b[1;32mc:\\Users\\cmwak\\anaconda3\\lib\\site-packages\\selenium\\webdriver\\remote\\webdriver.py:430\u001b[0m, in \u001b[0;36mWebDriver.execute\u001b[1;34m(self, driver_command, params)\u001b[0m\n\u001b[0;32m    428\u001b[0m response \u001b[39m=\u001b[39m \u001b[39mself\u001b[39m\u001b[39m.\u001b[39mcommand_executor\u001b[39m.\u001b[39mexecute(driver_command, params)\n\u001b[0;32m    429\u001b[0m \u001b[39mif\u001b[39;00m response:\n\u001b[1;32m--> 430\u001b[0m     \u001b[39mself\u001b[39;49m\u001b[39m.\u001b[39;49merror_handler\u001b[39m.\u001b[39;49mcheck_response(response)\n\u001b[0;32m    431\u001b[0m     response[\u001b[39m'\u001b[39m\u001b[39mvalue\u001b[39m\u001b[39m'\u001b[39m] \u001b[39m=\u001b[39m \u001b[39mself\u001b[39m\u001b[39m.\u001b[39m_unwrap_value(\n\u001b[0;32m    432\u001b[0m         response\u001b[39m.\u001b[39mget(\u001b[39m'\u001b[39m\u001b[39mvalue\u001b[39m\u001b[39m'\u001b[39m, \u001b[39mNone\u001b[39;00m))\n\u001b[0;32m    433\u001b[0m     \u001b[39mreturn\u001b[39;00m response\n",
      "File \u001b[1;32mc:\\Users\\cmwak\\anaconda3\\lib\\site-packages\\selenium\\webdriver\\remote\\errorhandler.py:247\u001b[0m, in \u001b[0;36mErrorHandler.check_response\u001b[1;34m(self, response)\u001b[0m\n\u001b[0;32m    245\u001b[0m         alert_text \u001b[39m=\u001b[39m value[\u001b[39m'\u001b[39m\u001b[39malert\u001b[39m\u001b[39m'\u001b[39m]\u001b[39m.\u001b[39mget(\u001b[39m'\u001b[39m\u001b[39mtext\u001b[39m\u001b[39m'\u001b[39m)\n\u001b[0;32m    246\u001b[0m     \u001b[39mraise\u001b[39;00m exception_class(message, screen, stacktrace, alert_text)  \u001b[39m# type: ignore[call-arg]  # mypy is not smart enough here\u001b[39;00m\n\u001b[1;32m--> 247\u001b[0m \u001b[39mraise\u001b[39;00m exception_class(message, screen, stacktrace)\n",
      "\u001b[1;31mMoveTargetOutOfBoundsException\u001b[0m: Message: move target out of bounds\n  (Session info: chrome=112.0.5615.121)\nStacktrace:\nBacktrace:\n\tGetHandleVerifier [0x00FADCE3+50899]\n\t(No symbol) [0x00F3E111]\n\t(No symbol) [0x00E45450]\n\t(No symbol) [0x00EA4ED1]\n\t(No symbol) [0x00E8B8FC]\n\t(No symbol) [0x00E9E01C]\n\t(No symbol) [0x00E8B6F6]\n\t(No symbol) [0x00E67708]\n\t(No symbol) [0x00E6886D]\n\tGetHandleVerifier [0x01213EAE+2566302]\n\tGetHandleVerifier [0x012492B1+2784417]\n\tGetHandleVerifier [0x0124327C+2759788]\n\tGetHandleVerifier [0x01045740+672048]\n\t(No symbol) [0x00F48872]\n\t(No symbol) [0x00F441C8]\n\t(No symbol) [0x00F442AB]\n\t(No symbol) [0x00F371B7]\n\tBaseThreadInitThunk [0x75D47D49+25]\n\tRtlInitializeExceptionChain [0x77ADB74B+107]\n\tRtlClearBits [0x77ADB6CF+191]\n"
     ]
    }
   ],
   "source": [
    "\n",
    "## website to scrape\n",
    "\n",
    "website = \"https://www.motorhub.co.ke/all-stock\"\n",
    "path = 'C:/Users/cmwak/chrome_driver/chromedriver'\n",
    "\n",
    "## define a driver variable'\n",
    "driver = webdriver.Chrome(path)\n",
    "\n",
    "## open the driver\n",
    "driver.get(website)\n",
    "\n",
    "# Click the accept cookies button\n",
    "accept_button = driver.find_element_by_xpath(\"//button[text()='Accept']\")\n",
    "accept_button.click()\n",
    "\n",
    "driver.maximize_window()\n",
    "\n",
    "from selenium.webdriver.common.action_chains import ActionChains\n",
    "\n",
    "while True:\n",
    "    try:\n",
    "        # Wait for the \"LOAD MORE\" button to become clickable\n",
    "        load_more_button = WebDriverWait(driver, 10).until(EC.element_to_be_clickable((By.XPATH, '//input[@value=\"LOAD MORE\"]')))\n",
    "        \n",
    "        # Scroll the page down a little bit\n",
    "        driver.execute_script(\"window.scrollBy(0, 100);\")\n",
    "        \n",
    "        # Scroll to the \"LOAD MORE\" button\n",
    "        actions = ActionChains(driver)\n",
    "        actions.move_to_element(load_more_button).perform()\n",
    "        \n",
    "        # Click the \"LOAD MORE\" button\n",
    "        actions.click(load_more_button).perform()\n",
    "        \n",
    "        print(\"Load more stories clicked\")\n",
    "    except TimeoutException:\n",
    "        print(\"No more stories to load\")\n",
    "        break\n"
   ]
  },
  {
   "cell_type": "code",
   "execution_count": 19,
   "metadata": {},
   "outputs": [
    {
     "name": "stderr",
     "output_type": "stream",
     "text": [
      "C:\\Users\\cmwak\\AppData\\Local\\Temp\\ipykernel_1292\\3178090474.py:7: DeprecationWarning: executable_path has been deprecated, please pass in a Service object\n",
      "  driver = webdriver.Chrome(path)\n",
      "C:\\Users\\cmwak\\AppData\\Local\\Temp\\ipykernel_1292\\3178090474.py:15: DeprecationWarning: find_element_by_xpath is deprecated. Please use find_element(by=By.XPATH, value=xpath) instead\n",
      "  accept_button = driver.find_element_by_xpath(\"//button[text()='Accept']\")\n"
     ]
    },
    {
     "ename": "ElementClickInterceptedException",
     "evalue": "Message: element click intercepted: Element is not clickable at point (759, 3637)\n  (Session info: chrome=112.0.5615.121)\nStacktrace:\nBacktrace:\n\tGetHandleVerifier [0x00FADCE3+50899]\n\t(No symbol) [0x00F3E111]\n\t(No symbol) [0x00E45588]\n\t(No symbol) [0x00E75A7A]\n\t(No symbol) [0x00E74336]\n\t(No symbol) [0x00E7267B]\n\t(No symbol) [0x00E71797]\n\t(No symbol) [0x00E694A5]\n\t(No symbol) [0x00E8B8FC]\n\t(No symbol) [0x00E68EC6]\n\t(No symbol) [0x00E8BC54]\n\t(No symbol) [0x00E9E01C]\n\t(No symbol) [0x00E8B6F6]\n\t(No symbol) [0x00E67708]\n\t(No symbol) [0x00E6886D]\n\tGetHandleVerifier [0x01213EAE+2566302]\n\tGetHandleVerifier [0x012492B1+2784417]\n\tGetHandleVerifier [0x0124327C+2759788]\n\tGetHandleVerifier [0x01045740+672048]\n\t(No symbol) [0x00F48872]\n\t(No symbol) [0x00F441C8]\n\t(No symbol) [0x00F442AB]\n\t(No symbol) [0x00F371B7]\n\tBaseThreadInitThunk [0x75D47D49+25]\n\tRtlInitializeExceptionChain [0x77ADB74B+107]\n\tRtlClearBits [0x77ADB6CF+191]\n",
     "output_type": "error",
     "traceback": [
      "\u001b[1;31m---------------------------------------------------------------------------\u001b[0m",
      "\u001b[1;31mElementClickInterceptedException\u001b[0m          Traceback (most recent call last)",
      "Cell \u001b[1;32mIn[19], line 37\u001b[0m\n\u001b[0;32m     34\u001b[0m     load_more_button \u001b[39m=\u001b[39m WebDriverWait(driver, \u001b[39m5\u001b[39m)\u001b[39m.\u001b[39muntil(EC\u001b[39m.\u001b[39melement_to_be_clickable((By\u001b[39m.\u001b[39mXPATH, \u001b[39m'\u001b[39m\u001b[39m//input[@value=\u001b[39m\u001b[39m\"\u001b[39m\u001b[39mLOAD MORE\u001b[39m\u001b[39m\"\u001b[39m\u001b[39m]\u001b[39m\u001b[39m'\u001b[39m)))\n\u001b[0;32m     36\u001b[0m     \u001b[39m# Click the \"LOAD MORE\" button\u001b[39;00m\n\u001b[1;32m---> 37\u001b[0m     load_more_button\u001b[39m.\u001b[39;49mclick()\n\u001b[0;32m     39\u001b[0m     \u001b[39mprint\u001b[39m(\u001b[39m\"\u001b[39m\u001b[39mLoad more stories clicked\u001b[39m\u001b[39m\"\u001b[39m)\n\u001b[0;32m     40\u001b[0m \u001b[39mexcept\u001b[39;00m TimeoutException:\n",
      "File \u001b[1;32mc:\\Users\\cmwak\\anaconda3\\lib\\site-packages\\selenium\\webdriver\\remote\\webelement.py:89\u001b[0m, in \u001b[0;36mWebElement.click\u001b[1;34m(self)\u001b[0m\n\u001b[0;32m     87\u001b[0m \u001b[39mdef\u001b[39;00m \u001b[39mclick\u001b[39m(\u001b[39mself\u001b[39m) \u001b[39m-\u001b[39m\u001b[39m>\u001b[39m \u001b[39mNone\u001b[39;00m:\n\u001b[0;32m     88\u001b[0m \u001b[39m    \u001b[39m\u001b[39m\"\"\"Clicks the element.\"\"\"\u001b[39;00m\n\u001b[1;32m---> 89\u001b[0m     \u001b[39mself\u001b[39;49m\u001b[39m.\u001b[39;49m_execute(Command\u001b[39m.\u001b[39;49mCLICK_ELEMENT)\n",
      "File \u001b[1;32mc:\\Users\\cmwak\\anaconda3\\lib\\site-packages\\selenium\\webdriver\\remote\\webelement.py:773\u001b[0m, in \u001b[0;36mWebElement._execute\u001b[1;34m(self, command, params)\u001b[0m\n\u001b[0;32m    771\u001b[0m     params \u001b[39m=\u001b[39m {}\n\u001b[0;32m    772\u001b[0m params[\u001b[39m'\u001b[39m\u001b[39mid\u001b[39m\u001b[39m'\u001b[39m] \u001b[39m=\u001b[39m \u001b[39mself\u001b[39m\u001b[39m.\u001b[39m_id\n\u001b[1;32m--> 773\u001b[0m \u001b[39mreturn\u001b[39;00m \u001b[39mself\u001b[39;49m\u001b[39m.\u001b[39;49m_parent\u001b[39m.\u001b[39;49mexecute(command, params)\n",
      "File \u001b[1;32mc:\\Users\\cmwak\\anaconda3\\lib\\site-packages\\selenium\\webdriver\\remote\\webdriver.py:430\u001b[0m, in \u001b[0;36mWebDriver.execute\u001b[1;34m(self, driver_command, params)\u001b[0m\n\u001b[0;32m    428\u001b[0m response \u001b[39m=\u001b[39m \u001b[39mself\u001b[39m\u001b[39m.\u001b[39mcommand_executor\u001b[39m.\u001b[39mexecute(driver_command, params)\n\u001b[0;32m    429\u001b[0m \u001b[39mif\u001b[39;00m response:\n\u001b[1;32m--> 430\u001b[0m     \u001b[39mself\u001b[39;49m\u001b[39m.\u001b[39;49merror_handler\u001b[39m.\u001b[39;49mcheck_response(response)\n\u001b[0;32m    431\u001b[0m     response[\u001b[39m'\u001b[39m\u001b[39mvalue\u001b[39m\u001b[39m'\u001b[39m] \u001b[39m=\u001b[39m \u001b[39mself\u001b[39m\u001b[39m.\u001b[39m_unwrap_value(\n\u001b[0;32m    432\u001b[0m         response\u001b[39m.\u001b[39mget(\u001b[39m'\u001b[39m\u001b[39mvalue\u001b[39m\u001b[39m'\u001b[39m, \u001b[39mNone\u001b[39;00m))\n\u001b[0;32m    433\u001b[0m     \u001b[39mreturn\u001b[39;00m response\n",
      "File \u001b[1;32mc:\\Users\\cmwak\\anaconda3\\lib\\site-packages\\selenium\\webdriver\\remote\\errorhandler.py:247\u001b[0m, in \u001b[0;36mErrorHandler.check_response\u001b[1;34m(self, response)\u001b[0m\n\u001b[0;32m    245\u001b[0m         alert_text \u001b[39m=\u001b[39m value[\u001b[39m'\u001b[39m\u001b[39malert\u001b[39m\u001b[39m'\u001b[39m]\u001b[39m.\u001b[39mget(\u001b[39m'\u001b[39m\u001b[39mtext\u001b[39m\u001b[39m'\u001b[39m)\n\u001b[0;32m    246\u001b[0m     \u001b[39mraise\u001b[39;00m exception_class(message, screen, stacktrace, alert_text)  \u001b[39m# type: ignore[call-arg]  # mypy is not smart enough here\u001b[39;00m\n\u001b[1;32m--> 247\u001b[0m \u001b[39mraise\u001b[39;00m exception_class(message, screen, stacktrace)\n",
      "\u001b[1;31mElementClickInterceptedException\u001b[0m: Message: element click intercepted: Element is not clickable at point (759, 3637)\n  (Session info: chrome=112.0.5615.121)\nStacktrace:\nBacktrace:\n\tGetHandleVerifier [0x00FADCE3+50899]\n\t(No symbol) [0x00F3E111]\n\t(No symbol) [0x00E45588]\n\t(No symbol) [0x00E75A7A]\n\t(No symbol) [0x00E74336]\n\t(No symbol) [0x00E7267B]\n\t(No symbol) [0x00E71797]\n\t(No symbol) [0x00E694A5]\n\t(No symbol) [0x00E8B8FC]\n\t(No symbol) [0x00E68EC6]\n\t(No symbol) [0x00E8BC54]\n\t(No symbol) [0x00E9E01C]\n\t(No symbol) [0x00E8B6F6]\n\t(No symbol) [0x00E67708]\n\t(No symbol) [0x00E6886D]\n\tGetHandleVerifier [0x01213EAE+2566302]\n\tGetHandleVerifier [0x012492B1+2784417]\n\tGetHandleVerifier [0x0124327C+2759788]\n\tGetHandleVerifier [0x01045740+672048]\n\t(No symbol) [0x00F48872]\n\t(No symbol) [0x00F441C8]\n\t(No symbol) [0x00F442AB]\n\t(No symbol) [0x00F371B7]\n\tBaseThreadInitThunk [0x75D47D49+25]\n\tRtlInitializeExceptionChain [0x77ADB74B+107]\n\tRtlClearBits [0x77ADB6CF+191]\n"
     ]
    }
   ],
   "source": [
    "\n",
    "## website to scrape\n",
    "\n",
    "website = \"https://www.motorhub.co.ke/all-stock\"\n",
    "path = 'C:/Users/cmwak/chrome_driver/chromedriver'\n",
    "\n",
    "## define a driver variable'\n",
    "driver = webdriver.Chrome(path)\n",
    "\n",
    "## open the driver\n",
    "driver.get(website)\n",
    "\n",
    "driver.maximize_window()\n",
    "\n",
    "# Click the accept cookies button\n",
    "accept_button = driver.find_element_by_xpath(\"//button[text()='Accept']\")\n",
    "accept_button.click()\n",
    "\n",
    "\n",
    "# Wait for the accept cookies button to disappear\n",
    "## WebDriverWait(driver, 10).until_not(EC.visibility_of_element_located((By.XPATH, \"//button[text()='Accept']\")))\n",
    "\n",
    "while True:\n",
    "    # Scroll down by 100 pixels\n",
    "    driver.execute_script(\"window.scrollBy(0, 150);\")\n",
    "    \n",
    "    try:\n",
    "        # Wait for the \"LOAD MORE\" button to become visible\n",
    "        load_more_button = WebDriverWait(driver, 5).until(EC.visibility_of_element_located((By.XPATH, '//input[@value=\"LOAD MORE\"]')))\n",
    "        \n",
    "        # Scroll to the \"LOAD MORE\" button\n",
    "        driver.execute_script(\"arguments[0].scrollIntoView(true);\", load_more_button)\n",
    "        \n",
    "        # Wait for the \"LOAD MORE\" button to become clickable\n",
    "        load_more_button = WebDriverWait(driver, 5).until(EC.element_to_be_clickable((By.XPATH, '//input[@value=\"LOAD MORE\"]')))\n",
    "        \n",
    "        # Click the \"LOAD MORE\" button\n",
    "        load_more_button.click()\n",
    "        \n",
    "        print(\"Load more stories clicked\")\n",
    "    except TimeoutException:\n",
    "        print(\"No more stories to load\")\n",
    "        break\n",
    "\n"
   ]
  },
  {
   "cell_type": "code",
   "execution_count": null,
   "metadata": {},
   "outputs": [],
   "source": []
  }
 ],
 "metadata": {
  "kernelspec": {
   "display_name": "base",
   "language": "python",
   "name": "python3"
  },
  "language_info": {
   "codemirror_mode": {
    "name": "ipython",
    "version": 3
   },
   "file_extension": ".py",
   "mimetype": "text/x-python",
   "name": "python",
   "nbconvert_exporter": "python",
   "pygments_lexer": "ipython3",
   "version": "3.9.13"
  },
  "orig_nbformat": 4
 },
 "nbformat": 4,
 "nbformat_minor": 2
}
