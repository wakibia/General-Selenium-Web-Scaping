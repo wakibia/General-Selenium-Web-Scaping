{
 "cells": [
  {
   "cell_type": "code",
   "execution_count": 1,
   "metadata": {},
   "outputs": [
    {
     "name": "stderr",
     "output_type": "stream",
     "text": [
      "C:\\Users\\cmwak\\AppData\\Local\\Temp\\ipykernel_12096\\702775012.py:15: DeprecationWarning: executable_path has been deprecated, please pass in a Service object\n",
      "  driver = webdriver.Chrome(path)\n"
     ]
    },
    {
     "name": "stdout",
     "output_type": "stream",
     "text": [
      "14\n"
     ]
    },
    {
     "name": "stderr",
     "output_type": "stream",
     "text": [
      "C:\\Users\\cmwak\\AppData\\Local\\Temp\\ipykernel_12096\\702775012.py:21: DeprecationWarning: find_element_by_xpath is deprecated. Please use find_element(by=By.XPATH, value=xpath) instead\n",
      "  user = element.find_element_by_xpath(\".//span[contains(text(), '@')]\").text\n",
      "C:\\Users\\cmwak\\AppData\\Local\\Temp\\ipykernel_12096\\702775012.py:22: DeprecationWarning: find_element_by_xpath is deprecated. Please use find_element(by=By.XPATH, value=xpath) instead\n",
      "  text = element.find_element_by_xpath(\".//div[@lang]\").text\n"
     ]
    },
    {
     "name": "stdout",
     "output_type": "stream",
     "text": [
      "26\n",
      "21\n",
      "18\n",
      "16\n",
      "18\n",
      "28\n",
      "19\n",
      "22\n",
      "11\n",
      "               user                                               text\n",
      "0   @TwitterSupport  We had big hopes for Fleets, but now it’s time...\n",
      "1   @TwitterSupport  We had planned for Fleets to help people feel ...\n",
      "2   @TwitterSupport  We learned a lot from Fleets and we’re excited...\n",
      "3   @TwitterSupport  Taking big chances helps us make the best prod...\n",
      "4       @ladyofacat  Please let us have multiple gifs per tweet I’m...\n",
      "..              ...                                                ...\n",
      "91     @jaybirdsatx  How about finally doing something about the in...\n",
      "92   @BerrymoreBlue   Please god just don't make us quote tweet again.\n",
      "93     @Molson_Hart  Lol \"fleets\" = \"taking big chances\" What's you...\n",
      "94  @milkybreadloaf  Am I the only one who can't use the Fleets fea...\n",
      "95                   Would even be happy to pay a £ or two for each...\n",
      "\n",
      "[96 rows x 2 columns]\n"
     ]
    }
   ],
   "source": [
    "## set the mmodules working directory to the project directory\n",
    "import os\n",
    "os.chdir('C:/Users/cmwak/AppData/Local/Programs/Python/Python311/Lib')\n",
    "\n",
    "from selenium import webdriver\n",
    "import time\n",
    "from selenium.webdriver.common.by import By\n",
    "from selenium.webdriver.support.ui import WebDriverWait\n",
    "from selenium.webdriver.support import expected_conditions as EC\n",
    "import pandas as pd\n",
    "\n",
    "web = \"https://twitter.com/TwitterSupport/status/1415364740583395328\"\n",
    "# web = \"https://twitter.com/TwitterSupport\"\n",
    "path = 'C:/Users/cmwak/chrome_driver/chromedriver'\n",
    "driver = webdriver.Chrome(path)\n",
    "driver.get(web)\n",
    "driver.maximize_window()\n",
    "\n",
    "def get_tweet(element):\n",
    "    try:\n",
    "        user = element.find_element_by_xpath(\".//span[contains(text(), '@')]\").text\n",
    "        text = element.find_element_by_xpath(\".//div[@lang]\").text\n",
    "        tweet_data = [user, text]\n",
    "    except:\n",
    "        tweet_data = ['user', 'text']\n",
    "    return tweet_data\n",
    "\n",
    "\n",
    "user_data = []\n",
    "text_data = []\n",
    "tweet_ids = set()\n",
    "scrolling = True\n",
    "while scrolling:\n",
    "    tweets = WebDriverWait(driver, 5).until(\n",
    "        EC.presence_of_all_elements_located((By.XPATH, \"//article[@role='article']\")))\n",
    "    print(len(tweets))\n",
    "    for tweet in tweets[-15:]:  # you can change this number with the number of tweets in a website || NOTE: ONLY THOSE LOADED IN THE last page will be considered while those from previous page will be forgotten (example: scroll all the way down and then try to find an @username that it's on top --> it won't find it)\n",
    "        tweet_list = get_tweet(tweet)\n",
    "        tweet_id = ''.join(tweet_list)\n",
    "        if tweet_id not in tweet_ids:\n",
    "            tweet_ids.add(tweet_id)\n",
    "            user_data.append(tweet_list[0])\n",
    "            text_data.append(\" \".join(tweet_list[1].split()))\n",
    "\n",
    "    # Get the initial scroll height\n",
    "    last_height = driver.execute_script(\"return document.body.scrollHeight\")\n",
    "    while True:\n",
    "        # Scroll down to bottom\n",
    "        driver.execute_script(\"window.scrollTo(0, document.body.scrollHeight);\")\n",
    "        # Wait to load page\n",
    "        time.sleep(2)\n",
    "        # Calculate new scroll height and compare it with last scroll height\n",
    "        new_height = driver.execute_script(\"return document.body.scrollHeight\")\n",
    "        # condition 1\n",
    "        if new_height == last_height:  # if the new and last height are equal, it means that there isn't any new page to load, so we stop scrolling\n",
    "            scrolling = False\n",
    "            break\n",
    "        # condition 2\n",
    "        # if len(data) > 60:\n",
    "        #     scrolling = False\n",
    "        #     break\n",
    "        else:\n",
    "            last_height = new_height\n",
    "            break\n",
    "\n",
    "\n",
    "driver.quit()\n",
    "\n",
    "df_tweets = pd.DataFrame({'user': user_data, 'text': text_data})\n",
    "df_tweets.to_csv('tweets_pagination.csv', index=False)\n",
    "print(df_tweets)\n"
   ]
  },
  {
   "cell_type": "code",
   "execution_count": null,
   "metadata": {},
   "outputs": [],
   "source": []
  }
 ],
 "metadata": {
  "kernelspec": {
   "display_name": "base",
   "language": "python",
   "name": "python3"
  },
  "language_info": {
   "codemirror_mode": {
    "name": "ipython",
    "version": 3
   },
   "file_extension": ".py",
   "mimetype": "text/x-python",
   "name": "python",
   "nbconvert_exporter": "python",
   "pygments_lexer": "ipython3",
   "version": "3.9.13"
  },
  "orig_nbformat": 4
 },
 "nbformat": 4,
 "nbformat_minor": 2
}
