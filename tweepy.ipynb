{
 "cells": [
  {
   "cell_type": "code",
   "execution_count": 7,
   "metadata": {},
   "outputs": [],
   "source": [
    "# import tweepy and authenticate with Twitter\n",
    "import tweepy\n",
    "import twitter"
   ]
  },
  {
   "cell_type": "code",
   "execution_count": 8,
   "metadata": {},
   "outputs": [
    {
     "ename": "AttributeError",
     "evalue": "module 'twitter' has no attribute 'OAuth1UserHandler'",
     "output_type": "error",
     "traceback": [
      "\u001b[1;31m---------------------------------------------------------------------------\u001b[0m",
      "\u001b[1;31mAttributeError\u001b[0m                            Traceback (most recent call last)",
      "Cell \u001b[1;32mIn[8], line 5\u001b[0m\n\u001b[0;32m      3\u001b[0m access_token \u001b[39m=\u001b[39m \u001b[39m\"\u001b[39m\u001b[39m1637493859784458241-g4JtVKX8M4EmmeIPxHdB86TzNo5CgH\u001b[39m\u001b[39m\"\u001b[39m\n\u001b[0;32m      4\u001b[0m access_token_secret \u001b[39m=\u001b[39m \u001b[39m\"\u001b[39m\u001b[39mAcTRJBevH1AxhVEispjYqWPGCi7YdPFWMjozKjKV3K0hv\u001b[39m\u001b[39m\"\u001b[39m\n\u001b[1;32m----> 5\u001b[0m tweepy\u001b[39m.\u001b[39moauth \u001b[39m=\u001b[39m twitter\u001b[39m.\u001b[39;49mOAuth1UserHandler(\n\u001b[0;32m      6\u001b[0m     consumer_key, consumer_secret, access_token, access_token_secret\n\u001b[0;32m      7\u001b[0m )\n\u001b[0;32m      8\u001b[0m api \u001b[39m=\u001b[39m twitter\u001b[39m.\u001b[39mAPI(tweepy\u001b[39m.\u001b[39moauth)\n\u001b[0;32m     10\u001b[0m \u001b[39m# search for tweets containing the hashtag #rstats\u001b[39;00m\n",
      "\u001b[1;31mAttributeError\u001b[0m: module 'twitter' has no attribute 'OAuth1UserHandler'"
     ]
    }
   ],
   "source": [
    "consumer_key = \"rwTIhPywt3yWWVSqn42wvBEDO\"\n",
    "consumer_secret = \"NFerC02qrH3zFDHMUIpc1s49HiwFF94U5038vfMRoBa3yYUCef\"\n",
    "access_token = \"1637493859784458241-g4JtVKX8M4EmmeIPxHdB86TzNo5CgH\"\n",
    "access_token_secret = \"AcTRJBevH1AxhVEispjYqWPGCi7YdPFWMjozKjKV3K0hv\"\n",
    "tweepy.oauth = twitter.OAuth1UserHandler(\n",
    "    consumer_key, consumer_secret, access_token, access_token_secret\n",
    ")\n",
    "api = twitter.API(tweepy.oauth)\n",
    "\n",
    "# search for tweets containing the hashtag #rstats\n",
    "tweets = api.search(q=\"#rstats\", count=10)\n",
    "\n",
    "# print the first 10 tweets\n",
    "for tweet in tweets:\n",
    "    print(tweet.text)"
   ]
  },
  {
   "cell_type": "code",
   "execution_count": null,
   "metadata": {},
   "outputs": [],
   "source": []
  }
 ],
 "metadata": {
  "kernelspec": {
   "display_name": "base",
   "language": "python",
   "name": "python3"
  },
  "language_info": {
   "codemirror_mode": {
    "name": "ipython",
    "version": 3
   },
   "file_extension": ".py",
   "mimetype": "text/x-python",
   "name": "python",
   "nbconvert_exporter": "python",
   "pygments_lexer": "ipython3",
   "version": "3.9.13"
  },
  "orig_nbformat": 4,
  "vscode": {
   "interpreter": {
    "hash": "0e1f500862276d0a94c5beff573299054db22dccccccbcdc4dea5b2de1e22c86"
   }
  }
 },
 "nbformat": 4,
 "nbformat_minor": 2
}
