{
 "cells": [
  {
   "cell_type": "code",
   "execution_count": 1,
   "metadata": {},
   "outputs": [],
   "source": [
    "## load libraries\n",
    "import requests\n",
    "from bs4 import BeautifulSoup\n",
    "import re"
   ]
  },
  {
   "attachments": {},
   "cell_type": "markdown",
   "metadata": {},
   "source": [
    "site to scrape\n",
    "\n",
    "https://www.guru.com/d/jobs/"
   ]
  },
  {
   "cell_type": "code",
   "execution_count": 3,
   "metadata": {},
   "outputs": [],
   "source": [
    "## site to scrape\n",
    "url = 'https://www.guru.com/d/jobs/'\n",
    "response = requests.get(url=url)\n",
    "\n",
    "## get the soup object\n",
    "guru_soup = BeautifulSoup(response.text, 'lxml')"
   ]
  },
  {
   "cell_type": "code",
   "execution_count": 7,
   "metadata": {},
   "outputs": [
    {
     "data": {
      "text/plain": [
       "'I need a Python script that uses Selenium/Chromedriver and manages to show successfully the content of a specific webpage (https://www.bet365.gr/#/IP/B1) bypassing its bot detection. So instead of infinite loading, it should show live matches content.'"
      ]
     },
     "execution_count": 7,
     "metadata": {},
     "output_type": "execute_result"
    }
   ],
   "source": [
    "## get the descriptions\n",
    "job_descr = guru_soup.find('p', class_=\"jobRecord__desc\").get_text()\n",
    "job_descr"
   ]
  },
  {
   "attachments": {},
   "cell_type": "markdown",
   "metadata": {},
   "source": [
    ">- for the get_text, you can also indicate `strip = True` and also the separator"
   ]
  },
  {
   "attachments": {},
   "cell_type": "markdown",
   "metadata": {},
   "source": [
    "## use an alternative link\n",
    "https://www.buyrentkenya.com/property-for-sale\n",
    "div data-cy=\"listing-section\" class=\"flex flex-wrap flex-grow-0 w-full\""
   ]
  },
  {
   "cell_type": "code",
   "execution_count": 9,
   "metadata": {},
   "outputs": [],
   "source": [
    "br_response = requests.get('https://www.buyrentkenya.com/property-for-sale')\n",
    "buyrent = BeautifulSoup(br_response.text, 'lxml')"
   ]
  },
  {
   "cell_type": "code",
   "execution_count": 11,
   "metadata": {},
   "outputs": [],
   "source": [
    "container = buyrent.find_all('div', class_=\"mb-5 mx-3 md:mx-0\")"
   ]
  },
  {
   "cell_type": "code",
   "execution_count": 19,
   "metadata": {},
   "outputs": [],
   "source": [
    "listing_1 = container[0]"
   ]
  },
  {
   "cell_type": "code",
   "execution_count": 20,
   "metadata": {},
   "outputs": [
    {
     "data": {
      "text/plain": [
       "<a disabled=\"\" href=\"/listings/3-bedroom-apartment-for-sale-nyali-area-3568290\">\n",
       "<img alt=\"Serviced 3 Bed Apartment with En Suite in Nyali Area\" class=\"h-42 w-full object-cover\" src=\"https://i.roamcdn.net/prop/brk/listing-thumb-376w/79ce9ae8614a5573807a7315fc5a4ad7/-/prod-property-core-backend-media-brk/4715858/98d2ac21-895c-4321-be89-255658f08adc.jpg\" x-bind:src=\"currentImage?.public_thumbnail_url ?? null\"/>\n",
       "</a>"
      ]
     },
     "execution_count": 20,
     "metadata": {},
     "output_type": "execute_result"
    }
   ],
   "source": [
    "listing_1.find('a', href = True)"
   ]
  },
  {
   "cell_type": "code",
   "execution_count": 21,
   "metadata": {},
   "outputs": [],
   "source": [
    "pgs = []\n",
    "for pg in range(1, 1781):\n",
    "    url_all = 'https://subslikescript.com/movies?page='\n",
    "    pg_url = url_all + str(pg)\n",
    "    pgs.append(pg_url)"
   ]
  },
  {
   "cell_type": "code",
   "execution_count": 24,
   "metadata": {},
   "outputs": [
    {
     "data": {
      "text/plain": [
       "['https://subslikescript.com/movies?page=201',\n",
       " 'https://subslikescript.com/movies?page=202',\n",
       " 'https://subslikescript.com/movies?page=203',\n",
       " 'https://subslikescript.com/movies?page=204',\n",
       " 'https://subslikescript.com/movies?page=205',\n",
       " 'https://subslikescript.com/movies?page=206',\n",
       " 'https://subslikescript.com/movies?page=207',\n",
       " 'https://subslikescript.com/movies?page=208',\n",
       " 'https://subslikescript.com/movies?page=209',\n",
       " 'https://subslikescript.com/movies?page=210',\n",
       " 'https://subslikescript.com/movies?page=211',\n",
       " 'https://subslikescript.com/movies?page=212',\n",
       " 'https://subslikescript.com/movies?page=213',\n",
       " 'https://subslikescript.com/movies?page=214',\n",
       " 'https://subslikescript.com/movies?page=215',\n",
       " 'https://subslikescript.com/movies?page=216',\n",
       " 'https://subslikescript.com/movies?page=217',\n",
       " 'https://subslikescript.com/movies?page=218',\n",
       " 'https://subslikescript.com/movies?page=219',\n",
       " 'https://subslikescript.com/movies?page=220',\n",
       " 'https://subslikescript.com/movies?page=221',\n",
       " 'https://subslikescript.com/movies?page=222',\n",
       " 'https://subslikescript.com/movies?page=223',\n",
       " 'https://subslikescript.com/movies?page=224',\n",
       " 'https://subslikescript.com/movies?page=225',\n",
       " 'https://subslikescript.com/movies?page=226',\n",
       " 'https://subslikescript.com/movies?page=227',\n",
       " 'https://subslikescript.com/movies?page=228',\n",
       " 'https://subslikescript.com/movies?page=229',\n",
       " 'https://subslikescript.com/movies?page=230']"
      ]
     },
     "execution_count": 24,
     "metadata": {},
     "output_type": "execute_result"
    }
   ],
   "source": [
    "pgs[200:230]"
   ]
  },
  {
   "cell_type": "code",
   "execution_count": null,
   "metadata": {},
   "outputs": [],
   "source": []
  }
 ],
 "metadata": {
  "kernelspec": {
   "display_name": "base",
   "language": "python",
   "name": "python3"
  },
  "language_info": {
   "codemirror_mode": {
    "name": "ipython",
    "version": 3
   },
   "file_extension": ".py",
   "mimetype": "text/x-python",
   "name": "python",
   "nbconvert_exporter": "python",
   "pygments_lexer": "ipython3",
   "version": "3.9.13"
  },
  "orig_nbformat": 4
 },
 "nbformat": 4,
 "nbformat_minor": 2
}
